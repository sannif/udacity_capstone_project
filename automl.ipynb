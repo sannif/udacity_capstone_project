{
 "cells": [
  {
   "cell_type": "markdown",
   "metadata": {},
   "source": [
    "# Automated ML"
   ]
  },
  {
   "cell_type": "code",
   "execution_count": 1,
   "metadata": {
    "collapsed": false,
    "gather": {
     "logged": 1598423888013
    },
    "jupyter": {
     "outputs_hidden": false,
     "source_hidden": false
    },
    "nteract": {
     "transient": {
      "deleting": false
     }
    }
   },
   "outputs": [],
   "source": [
    "import numpy as np\n",
    "import os\n",
    "\n",
    "from azureml.core.experiment import Experiment\n",
    "from azureml.core.workspace import Workspace\n",
    "from azureml.train.automl import AutoMLConfig\n",
    "from azureml.core.dataset import Dataset\n",
    "from azureml.core.model import Model\n",
    "from azureml.core import Webservice\n",
    "\n",
    "from azureml.core.compute import AmlCompute, ComputeTarget\n",
    "\n",
    "from azureml.core.webservice import AciWebservice\n",
    "from azureml.widgets import RunDetails\n",
    "import joblib"
   ]
  },
  {
   "cell_type": "markdown",
   "metadata": {},
   "source": [
    "## Dataset\n",
    "\n",
    "### Overview\n",
    "The dataset is the [Mushrooms](https://archive.ics.uci.edu/ml/datasets/mushroom)'s dataset from UCI. It includes descriptions of hypothetical samples corresponding to 23 species of gilled mushrooms in the Agaricus and Lepiota Family Mushroom drawn from The Audubon Society Field Guide to North American Mushrooms (1981). Each species is identified as definitely edible or definitely poisonous. It is teh classification task consisting of predicting whether a mushroom is edible or poisonous."
   ]
  },
  {
   "cell_type": "code",
   "execution_count": 3,
   "metadata": {
    "collapsed": false,
    "gather": {
     "logged": 1598423890461
    },
    "jupyter": {
     "outputs_hidden": false,
     "source_hidden": false
    },
    "nteract": {
     "transient": {
      "deleting": false
     }
    }
   },
   "outputs": [],
   "source": [
    "ws = Workspace.from_config()\n",
    "experiment_name = 'automl-exp'\n",
    "experiment = Experiment(ws, experiment_name)"
   ]
  },
  {
   "cell_type": "markdown",
   "metadata": {},
   "source": [
    "In order to easily acces the data, we downloaded it from [Kaggle](https://www.kaggle.com/uciml/mushroom-classification) and saved it in our Github repository. Thus we have a link to the dataset that we can use in our notebook."
   ]
  },
  {
   "cell_type": "code",
   "execution_count": 16,
   "metadata": {},
   "outputs": [
    {
     "data": {
      "text/html": [
       "<div>\n",
       "<style scoped>\n",
       "    .dataframe tbody tr th:only-of-type {\n",
       "        vertical-align: middle;\n",
       "    }\n",
       "\n",
       "    .dataframe tbody tr th {\n",
       "        vertical-align: top;\n",
       "    }\n",
       "\n",
       "    .dataframe thead th {\n",
       "        text-align: right;\n",
       "    }\n",
       "</style>\n",
       "<table border=\"1\" class=\"dataframe\">\n",
       "  <thead>\n",
       "    <tr style=\"text-align: right;\">\n",
       "      <th></th>\n",
       "      <th>class</th>\n",
       "      <th>cap-shape</th>\n",
       "      <th>cap-surface</th>\n",
       "      <th>cap-color</th>\n",
       "      <th>bruises</th>\n",
       "      <th>odor</th>\n",
       "      <th>gill-attachment</th>\n",
       "      <th>gill-spacing</th>\n",
       "      <th>gill-size</th>\n",
       "      <th>gill-color</th>\n",
       "      <th>...</th>\n",
       "      <th>stalk-surface-below-ring</th>\n",
       "      <th>stalk-color-above-ring</th>\n",
       "      <th>stalk-color-below-ring</th>\n",
       "      <th>veil-type</th>\n",
       "      <th>veil-color</th>\n",
       "      <th>ring-number</th>\n",
       "      <th>ring-type</th>\n",
       "      <th>spore-print-color</th>\n",
       "      <th>population</th>\n",
       "      <th>habitat</th>\n",
       "    </tr>\n",
       "  </thead>\n",
       "  <tbody>\n",
       "    <tr>\n",
       "      <th>0</th>\n",
       "      <td>p</td>\n",
       "      <td>x</td>\n",
       "      <td>s</td>\n",
       "      <td>n</td>\n",
       "      <td>True</td>\n",
       "      <td>p</td>\n",
       "      <td>False</td>\n",
       "      <td>c</td>\n",
       "      <td>n</td>\n",
       "      <td>k</td>\n",
       "      <td>...</td>\n",
       "      <td>s</td>\n",
       "      <td>w</td>\n",
       "      <td>w</td>\n",
       "      <td>p</td>\n",
       "      <td>w</td>\n",
       "      <td>o</td>\n",
       "      <td>p</td>\n",
       "      <td>k</td>\n",
       "      <td>s</td>\n",
       "      <td>u</td>\n",
       "    </tr>\n",
       "    <tr>\n",
       "      <th>1</th>\n",
       "      <td>e</td>\n",
       "      <td>x</td>\n",
       "      <td>s</td>\n",
       "      <td>y</td>\n",
       "      <td>True</td>\n",
       "      <td>a</td>\n",
       "      <td>False</td>\n",
       "      <td>c</td>\n",
       "      <td>b</td>\n",
       "      <td>k</td>\n",
       "      <td>...</td>\n",
       "      <td>s</td>\n",
       "      <td>w</td>\n",
       "      <td>w</td>\n",
       "      <td>p</td>\n",
       "      <td>w</td>\n",
       "      <td>o</td>\n",
       "      <td>p</td>\n",
       "      <td>n</td>\n",
       "      <td>n</td>\n",
       "      <td>g</td>\n",
       "    </tr>\n",
       "    <tr>\n",
       "      <th>2</th>\n",
       "      <td>e</td>\n",
       "      <td>b</td>\n",
       "      <td>s</td>\n",
       "      <td>w</td>\n",
       "      <td>True</td>\n",
       "      <td>l</td>\n",
       "      <td>False</td>\n",
       "      <td>c</td>\n",
       "      <td>b</td>\n",
       "      <td>n</td>\n",
       "      <td>...</td>\n",
       "      <td>s</td>\n",
       "      <td>w</td>\n",
       "      <td>w</td>\n",
       "      <td>p</td>\n",
       "      <td>w</td>\n",
       "      <td>o</td>\n",
       "      <td>p</td>\n",
       "      <td>n</td>\n",
       "      <td>n</td>\n",
       "      <td>m</td>\n",
       "    </tr>\n",
       "    <tr>\n",
       "      <th>3</th>\n",
       "      <td>p</td>\n",
       "      <td>x</td>\n",
       "      <td>y</td>\n",
       "      <td>w</td>\n",
       "      <td>True</td>\n",
       "      <td>p</td>\n",
       "      <td>False</td>\n",
       "      <td>c</td>\n",
       "      <td>n</td>\n",
       "      <td>n</td>\n",
       "      <td>...</td>\n",
       "      <td>s</td>\n",
       "      <td>w</td>\n",
       "      <td>w</td>\n",
       "      <td>p</td>\n",
       "      <td>w</td>\n",
       "      <td>o</td>\n",
       "      <td>p</td>\n",
       "      <td>k</td>\n",
       "      <td>s</td>\n",
       "      <td>u</td>\n",
       "    </tr>\n",
       "    <tr>\n",
       "      <th>4</th>\n",
       "      <td>e</td>\n",
       "      <td>x</td>\n",
       "      <td>s</td>\n",
       "      <td>g</td>\n",
       "      <td>False</td>\n",
       "      <td>n</td>\n",
       "      <td>False</td>\n",
       "      <td>w</td>\n",
       "      <td>b</td>\n",
       "      <td>k</td>\n",
       "      <td>...</td>\n",
       "      <td>s</td>\n",
       "      <td>w</td>\n",
       "      <td>w</td>\n",
       "      <td>p</td>\n",
       "      <td>w</td>\n",
       "      <td>o</td>\n",
       "      <td>e</td>\n",
       "      <td>n</td>\n",
       "      <td>a</td>\n",
       "      <td>g</td>\n",
       "    </tr>\n",
       "  </tbody>\n",
       "</table>\n",
       "<p>5 rows × 23 columns</p>\n",
       "</div>"
      ],
      "text/plain": [
       "  class cap-shape cap-surface cap-color  bruises odor  gill-attachment  \\\n",
       "0     p         x           s         n     True    p            False   \n",
       "1     e         x           s         y     True    a            False   \n",
       "2     e         b           s         w     True    l            False   \n",
       "3     p         x           y         w     True    p            False   \n",
       "4     e         x           s         g    False    n            False   \n",
       "\n",
       "  gill-spacing gill-size gill-color  ... stalk-surface-below-ring  \\\n",
       "0            c         n          k  ...                        s   \n",
       "1            c         b          k  ...                        s   \n",
       "2            c         b          n  ...                        s   \n",
       "3            c         n          n  ...                        s   \n",
       "4            w         b          k  ...                        s   \n",
       "\n",
       "  stalk-color-above-ring stalk-color-below-ring veil-type veil-color  \\\n",
       "0                      w                      w         p          w   \n",
       "1                      w                      w         p          w   \n",
       "2                      w                      w         p          w   \n",
       "3                      w                      w         p          w   \n",
       "4                      w                      w         p          w   \n",
       "\n",
       "  ring-number ring-type spore-print-color population habitat  \n",
       "0           o         p                 k          s       u  \n",
       "1           o         p                 n          n       g  \n",
       "2           o         p                 n          n       m  \n",
       "3           o         p                 k          s       u  \n",
       "4           o         e                 n          a       g  \n",
       "\n",
       "[5 rows x 23 columns]"
      ]
     },
     "execution_count": 16,
     "metadata": {},
     "output_type": "execute_result"
    }
   ],
   "source": [
    "found = False\n",
    "key = \"Mushrooms\"\n",
    "\n",
    "if key in ws.datasets.keys(): \n",
    "        found = True\n",
    "        dataset = ws.datasets[key] \n",
    "        \n",
    "if not found:\n",
    "        dataset = Dataset.Tabular.from_delimited_files('https://raw.githubusercontent.com/sannif/udacity_capstone_project/main/dataset/mushrooms.csv', infer_column_types=False)       \n",
    "        dataset = dataset.register(workspace=ws, name=key)\n",
    "\n",
    "dataset.take(5).to_pandas_dataframe()"
   ]
  },
  {
   "cell_type": "markdown",
   "metadata": {},
   "source": [
    "## Compute\n",
    "Create a compute cluster to run the AutoML experiment."
   ]
  },
  {
   "cell_type": "code",
   "execution_count": 4,
   "metadata": {},
   "outputs": [
    {
     "name": "stdout",
     "output_type": "stream",
     "text": [
      "found compute target: cluster1\n",
      "Succeeded\n",
      "AmlCompute wait for completion finished\n",
      "\n",
      "Minimum number of nodes requested have been provisioned\n"
     ]
    }
   ],
   "source": [
    "compute_name = \"cluster1\"\n",
    "vm_size = \"Standard_DS12_v2\"\n",
    "min_nodes, max_nodes = 1, 6\n",
    "if compute_name in ws.compute_targets:\n",
    "    compute_target = ws.compute_targets[compute_name]\n",
    "    if compute_target and type(compute_target) is AmlCompute:\n",
    "        print(\"found compute target: \" + compute_name)\n",
    "else:\n",
    "    print(\"creating new compute target...\")\n",
    "    provisioning_config = AmlCompute.provisioning_configuration(vm_size = vm_size, min_nodes = min_nodes, max_nodes = max_nodes)\n",
    "    compute_target = ComputeTarget.create(ws, compute_name, provisioning_config)\n",
    "compute_target.wait_for_completion(show_output=True)"
   ]
  },
  {
   "cell_type": "markdown",
   "metadata": {},
   "source": [
    "## AutoML Configuration\n",
    "For the AutoML, we choose the accuracy as primary metric because we have balanced classes. Also, the experiment timeout is set to 20 minutes meaning that the run will stop after 20 minutes."
   ]
  },
  {
   "cell_type": "code",
   "execution_count": 7,
   "metadata": {
    "collapsed": false,
    "gather": {
     "logged": 1598429217746
    },
    "jupyter": {
     "outputs_hidden": false,
     "source_hidden": false
    },
    "nteract": {
     "transient": {
      "deleting": false
     }
    }
   },
   "outputs": [],
   "source": [
    "automl_settings = {\n",
    "    \"experiment_timeout_minutes\": 20,\n",
    "    \"max_concurrent_iterations\": 5,\n",
    "    \"primary_metric\" : 'accuracy'\n",
    "}\n",
    "automl_config = AutoMLConfig(compute_target=compute_target,\n",
    "                             task = \"classification\",\n",
    "                             training_data=dataset,\n",
    "                             label_column_name=\"class\",   \n",
    "                             path = '.',\n",
    "                             enable_early_stopping= True,\n",
    "                             featurization= 'auto',\n",
    "                             debug_log = \"automl_errors.log\",\n",
    "                             **automl_settings\n",
    "                            )"
   ]
  },
  {
   "cell_type": "code",
   "execution_count": 8,
   "metadata": {
    "collapsed": false,
    "gather": {
     "logged": 1598431107951
    },
    "jupyter": {
     "outputs_hidden": false,
     "source_hidden": false
    },
    "nteract": {
     "transient": {
      "deleting": false
     }
    }
   },
   "outputs": [
    {
     "name": "stdout",
     "output_type": "stream",
     "text": [
      "Submitting remote run.\n"
     ]
    },
    {
     "data": {
      "text/html": [
       "<table style=\"width:100%\"><tr><th>Experiment</th><th>Id</th><th>Type</th><th>Status</th><th>Details Page</th><th>Docs Page</th></tr><tr><td>automl-exp</td><td>AutoML_539e38c3-d87c-4ecd-83df-c4fa3ed6ef6b</td><td>automl</td><td>NotStarted</td><td><a href=\"https://ml.azure.com/runs/AutoML_539e38c3-d87c-4ecd-83df-c4fa3ed6ef6b?wsid=/subscriptions/aa7cf8e8-d23f-4bce-a7b9-1f0b4e0ac8ee/resourcegroups/aml-quickstarts-149637/workspaces/quick-starts-ws-149637&amp;tid=660b3398-b80e-49d2-bc5b-ac1dc93b5254\" target=\"_blank\" rel=\"noopener\">Link to Azure Machine Learning studio</a></td><td><a href=\"https://docs.microsoft.com/en-us/python/api/overview/azure/ml/intro?view=azure-ml-py\" target=\"_blank\" rel=\"noopener\">Link to Documentation</a></td></tr></table>"
      ],
      "text/plain": [
       "<IPython.core.display.HTML object>"
      ]
     },
     "metadata": {},
     "output_type": "display_data"
    }
   ],
   "source": [
    "automl_run = experiment.submit(automl_config)"
   ]
  },
  {
   "cell_type": "markdown",
   "metadata": {},
   "source": [
    "## Run Details\n",
    "\n",
    "More than half of the models reached 100% of accuracy. The classification task is pretty simple.  \n",
    "*XGBoostClassifier*, *LightGBM*, *Logistic Regression*, *Random Forest*, *ExtremeRandomTrees* are the models that have been tested. We note that *RandomForest* and *ExtremeRandomTrees* didn't reach 100% accuracy.\n",
    "Moreover *XGBoostClassifier* with a *StandardScalerWrapper* as processing produced models with 100% accuracy but also models with 52% accuracy. It demonstrates the importance of the hyperparameters."
   ]
  },
  {
   "cell_type": "code",
   "execution_count": 9,
   "metadata": {
    "collapsed": false,
    "gather": {
     "logged": 1598431121770
    },
    "jupyter": {
     "outputs_hidden": false,
     "source_hidden": false
    },
    "nteract": {
     "transient": {
      "deleting": false
     }
    }
   },
   "outputs": [
    {
     "data": {
      "application/vnd.jupyter.widget-view+json": {
       "model_id": "0031cdae816742b4be77e660c8831851",
       "version_major": 2,
       "version_minor": 0
      },
      "text/plain": [
       "_AutoMLWidget(widget_settings={'childWidgetDisplay': 'popup', 'send_telemetry': False, 'log_level': 'INFO', 's…"
      ]
     },
     "metadata": {},
     "output_type": "display_data"
    },
    {
     "data": {
      "application/aml.mini.widget.v1": "{\"status\": \"Completed\", \"workbench_run_details_uri\": \"https://ml.azure.com/runs/AutoML_539e38c3-d87c-4ecd-83df-c4fa3ed6ef6b?wsid=/subscriptions/aa7cf8e8-d23f-4bce-a7b9-1f0b4e0ac8ee/resourcegroups/aml-quickstarts-149637/workspaces/quick-starts-ws-149637&tid=660b3398-b80e-49d2-bc5b-ac1dc93b5254\", \"run_id\": \"AutoML_539e38c3-d87c-4ecd-83df-c4fa3ed6ef6b\", \"run_properties\": {\"run_id\": \"AutoML_539e38c3-d87c-4ecd-83df-c4fa3ed6ef6b\", \"created_utc\": \"2021-07-07T15:37:34.93835Z\", \"properties\": {\"num_iterations\": \"1000\", \"training_type\": \"TrainFull\", \"acquisition_function\": \"EI\", \"primary_metric\": \"accuracy\", \"train_split\": \"0\", \"acquisition_parameter\": \"0\", \"num_cross_validation\": null, \"target\": \"cluster1\", \"AMLSettingsJsonString\": \"{\\\"path\\\":null,\\\"name\\\":\\\"automl-exp\\\",\\\"subscription_id\\\":\\\"aa7cf8e8-d23f-4bce-a7b9-1f0b4e0ac8ee\\\",\\\"resource_group\\\":\\\"aml-quickstarts-149637\\\",\\\"workspace_name\\\":\\\"quick-starts-ws-149637\\\",\\\"region\\\":\\\"southcentralus\\\",\\\"compute_target\\\":\\\"cluster1\\\",\\\"spark_service\\\":null,\\\"azure_service\\\":\\\"remote\\\",\\\"many_models\\\":false,\\\"pipeline_fetch_max_batch_size\\\":1,\\\"enable_batch_run\\\":false,\\\"enable_run_restructure\\\":false,\\\"start_auxiliary_runs_before_parent_complete\\\":false,\\\"enable_code_generation\\\":false,\\\"iterations\\\":1000,\\\"primary_metric\\\":\\\"accuracy\\\",\\\"task_type\\\":\\\"classification\\\",\\\"data_script\\\":null,\\\"test_size\\\":0.0,\\\"validation_size\\\":0.0,\\\"n_cross_validations\\\":null,\\\"y_min\\\":null,\\\"y_max\\\":null,\\\"num_classes\\\":null,\\\"featurization\\\":\\\"auto\\\",\\\"_ignore_package_version_incompatibilities\\\":false,\\\"is_timeseries\\\":false,\\\"max_cores_per_iteration\\\":1,\\\"max_concurrent_iterations\\\":5,\\\"iteration_timeout_minutes\\\":null,\\\"mem_in_mb\\\":null,\\\"enforce_time_on_windows\\\":false,\\\"experiment_timeout_minutes\\\":20,\\\"experiment_exit_score\\\":null,\\\"whitelist_models\\\":null,\\\"blacklist_algos\\\":[\\\"TensorFlowLinearClassifier\\\",\\\"TensorFlowDNN\\\"],\\\"supported_models\\\":[\\\"LogisticRegression\\\",\\\"RandomForest\\\",\\\"XGBoostClassifier\\\",\\\"SVM\\\",\\\"KNN\\\",\\\"BernoulliNaiveBayes\\\",\\\"ExtremeRandomTrees\\\",\\\"AveragedPerceptronClassifier\\\",\\\"LinearSVM\\\",\\\"DecisionTree\\\",\\\"TensorFlowDNN\\\",\\\"TensorFlowLinearClassifier\\\",\\\"GradientBoosting\\\",\\\"MultinomialNaiveBayes\\\",\\\"LightGBM\\\",\\\"SGD\\\"],\\\"private_models\\\":[],\\\"auto_blacklist\\\":true,\\\"blacklist_samples_reached\\\":false,\\\"exclude_nan_labels\\\":true,\\\"verbosity\\\":20,\\\"_debug_log\\\":\\\"azureml_automl.log\\\",\\\"show_warnings\\\":false,\\\"model_explainability\\\":true,\\\"service_url\\\":null,\\\"sdk_url\\\":null,\\\"sdk_packages\\\":null,\\\"enable_onnx_compatible_models\\\":false,\\\"enable_split_onnx_featurizer_estimator_models\\\":false,\\\"vm_type\\\":\\\"STANDARD_DS12_V2\\\",\\\"telemetry_verbosity\\\":20,\\\"send_telemetry\\\":true,\\\"enable_dnn\\\":false,\\\"scenario\\\":\\\"SDK-1.13.0\\\",\\\"environment_label\\\":null,\\\"save_mlflow\\\":false,\\\"force_text_dnn\\\":false,\\\"enable_feature_sweeping\\\":true,\\\"enable_early_stopping\\\":true,\\\"early_stopping_n_iters\\\":10,\\\"metrics\\\":null,\\\"enable_metric_confidence\\\":false,\\\"enable_ensembling\\\":true,\\\"enable_stack_ensembling\\\":true,\\\"ensemble_iterations\\\":15,\\\"enable_tf\\\":false,\\\"enable_subsampling\\\":null,\\\"subsample_seed\\\":null,\\\"enable_nimbusml\\\":false,\\\"enable_streaming\\\":false,\\\"force_streaming\\\":false,\\\"track_child_runs\\\":true,\\\"allowed_private_models\\\":[],\\\"label_column_name\\\":\\\"class\\\",\\\"weight_column_name\\\":null,\\\"cv_split_column_names\\\":null,\\\"enable_local_managed\\\":false,\\\"_local_managed_run_id\\\":null,\\\"cost_mode\\\":1,\\\"lag_length\\\":0,\\\"metric_operation\\\":\\\"maximize\\\",\\\"preprocess\\\":true}\", \"DataPrepJsonString\": \"{\\\\\\\"training_data\\\\\\\": {\\\\\\\"datasetId\\\\\\\": \\\\\\\"82d6cdee-a769-441c-9f4b-bbbe916ef51e\\\\\\\"}, \\\\\\\"datasets\\\\\\\": 0}\", \"EnableSubsampling\": null, \"runTemplate\": \"AutoML\", \"azureml.runsource\": \"automl\", \"display_task_type\": \"classification\", \"dependencies_versions\": \"{\\\"azureml-widgets\\\": \\\"1.30.0\\\", \\\"azureml-train\\\": \\\"1.30.0\\\", \\\"azureml-train-restclients-hyperdrive\\\": \\\"1.30.0\\\", \\\"azureml-train-core\\\": \\\"1.30.0\\\", \\\"azureml-train-automl\\\": \\\"1.30.0\\\", \\\"azureml-train-automl-runtime\\\": \\\"1.30.0\\\", \\\"azureml-train-automl-client\\\": \\\"1.30.0\\\", \\\"azureml-tensorboard\\\": \\\"1.30.0\\\", \\\"azureml-telemetry\\\": \\\"1.30.0\\\", \\\"azureml-sdk\\\": \\\"1.30.0\\\", \\\"azureml-samples\\\": \\\"0+unknown\\\", \\\"azureml-pipeline\\\": \\\"1.30.0\\\", \\\"azureml-pipeline-steps\\\": \\\"1.30.0\\\", \\\"azureml-pipeline-core\\\": \\\"1.30.0\\\", \\\"azureml-opendatasets\\\": \\\"1.30.0\\\", \\\"azureml-model-management-sdk\\\": \\\"1.0.1b6.post1\\\", \\\"azureml-mlflow\\\": \\\"1.30.0\\\", \\\"azureml-interpret\\\": \\\"1.30.0\\\", \\\"azureml-explain-model\\\": \\\"1.30.0\\\", \\\"azureml-defaults\\\": \\\"1.30.0\\\", \\\"azureml-dataset-runtime\\\": \\\"1.30.0\\\", \\\"azureml-dataprep\\\": \\\"2.15.1\\\", \\\"azureml-dataprep-rslex\\\": \\\"1.13.0\\\", \\\"azureml-dataprep-native\\\": \\\"33.0.0\\\", \\\"azureml-datadrift\\\": \\\"1.30.0\\\", \\\"azureml-core\\\": \\\"1.30.0\\\", \\\"azureml-contrib-services\\\": \\\"1.30.0\\\", \\\"azureml-contrib-server\\\": \\\"1.30.0\\\", \\\"azureml-contrib-reinforcementlearning\\\": \\\"1.30.0\\\", \\\"azureml-contrib-pipeline-steps\\\": \\\"1.30.0\\\", \\\"azureml-contrib-notebook\\\": \\\"1.30.0\\\", \\\"azureml-contrib-fairness\\\": \\\"1.30.0\\\", \\\"azureml-contrib-dataset\\\": \\\"1.30.0\\\", \\\"azureml-cli-common\\\": \\\"1.30.0\\\", \\\"azureml-automl-runtime\\\": \\\"1.30.0\\\", \\\"azureml-automl-dnn-nlp\\\": \\\"1.30.0\\\", \\\"azureml-automl-core\\\": \\\"1.30.0\\\", \\\"azureml-accel-models\\\": \\\"1.30.0\\\"}\", \"_aml_system_scenario_identification\": \"Remote.Parent\", \"ClientType\": \"SDK\", \"environment_cpu_name\": \"AzureML-AutoML\", \"environment_cpu_label\": \"prod\", \"environment_gpu_name\": \"AzureML-AutoML-GPU\", \"environment_gpu_label\": \"prod\", \"root_attribution\": \"automl\", \"attribution\": \"AutoML\", \"Orchestrator\": \"AutoML\", \"CancelUri\": \"https://southcentralus.api.azureml.ms/jasmine/v1.0/subscriptions/aa7cf8e8-d23f-4bce-a7b9-1f0b4e0ac8ee/resourceGroups/aml-quickstarts-149637/providers/Microsoft.MachineLearningServices/workspaces/quick-starts-ws-149637/experimentids/085e03e6-a20b-4bd0-affb-2e0e859b5ab4/cancel/AutoML_539e38c3-d87c-4ecd-83df-c4fa3ed6ef6b\", \"azureml.git.repository_uri\": \"https://github.com/sannif/udacity_capstone_project.git\", \"mlflow.source.git.repoURL\": \"https://github.com/sannif/udacity_capstone_project.git\", \"azureml.git.branch\": \"main\", \"mlflow.source.git.branch\": \"main\", \"azureml.git.commit\": \"156da51e17d49b7bfda84ccf92ace2c371d3fb96\", \"mlflow.source.git.commit\": \"156da51e17d49b7bfda84ccf92ace2c371d3fb96\", \"azureml.git.dirty\": \"True\", \"ClientSdkVersion\": \"1.31.0\", \"snapshotId\": \"00000000-0000-0000-0000-000000000000\", \"SetupRunId\": \"AutoML_539e38c3-d87c-4ecd-83df-c4fa3ed6ef6b_setup\", \"SetupRunContainerId\": \"dcid.AutoML_539e38c3-d87c-4ecd-83df-c4fa3ed6ef6b_setup\", \"FeaturizationRunJsonPath\": \"featurizer_container.json\", \"FeaturizationRunId\": \"AutoML_539e38c3-d87c-4ecd-83df-c4fa3ed6ef6b_featurize\", \"ProblemInfoJsonString\": \"{\\\"dataset_num_categorical\\\": 0, \\\"is_sparse\\\": true, \\\"subsampling\\\": false, \\\"has_extra_col\\\": true, \\\"dataset_classes\\\": 2, \\\"dataset_features\\\": 110, \\\"dataset_samples\\\": 8124, \\\"single_frequency_class_detected\\\": false}\", \"ModelExplainRunId\": \"AutoML_539e38c3-d87c-4ecd-83df-c4fa3ed6ef6b_ModelExplain\"}, \"tags\": {\"model_explain_run\": \"best_run\", \"_aml_system_azureml.automlComponent\": \"AutoML\", \"pipeline_id\": \"\", \"score\": \"\", \"predicted_cost\": \"\", \"fit_time\": \"\", \"training_percent\": \"\", \"iteration\": \"\", \"run_preprocessor\": \"\", \"run_algorithm\": \"\", \"dynamic_whitelisting_iterations\": \"<25>;<30>;<35>;\", \"automl_best_child_run_id\": \"AutoML_539e38c3-d87c-4ecd-83df-c4fa3ed6ef6b_0\", \"model_explain_best_run_child_id\": \"AutoML_539e38c3-d87c-4ecd-83df-c4fa3ed6ef6b_0\"}, \"end_time_utc\": \"2021-07-07T15:52:11.6213Z\", \"status\": \"Completed\", \"log_files\": {}, \"log_groups\": [], \"run_duration\": \"0:14:36\", \"run_number\": \"1\", \"run_queued_details\": {\"status\": \"Completed\", \"details\": null}}, \"child_runs\": [{\"run_id\": \"AutoML_539e38c3-d87c-4ecd-83df-c4fa3ed6ef6b_0\", \"run_number\": 5, \"metric\": null, \"status\": \"Completed\", \"run_type\": \"azureml.scriptrun\", \"training_percent\": \"100\", \"start_time\": \"2021-07-07T15:42:37.418194Z\", \"end_time\": \"2021-07-07T15:43:23.331682Z\", \"created_time\": \"2021-07-07T15:40:37.316443Z\", \"created_time_dt\": \"2021-07-07T15:40:37.316443Z\", \"duration\": \"0:02:46\", \"iteration\": \"0\", \"goal\": \"accuracy_max\", \"run_name\": \"MaxAbsScaler, LightGBM\", \"run_properties\": \"copy=True\", \"primary_metric\": 1.0, \"best_metric\": 1.0}, {\"run_id\": \"AutoML_539e38c3-d87c-4ecd-83df-c4fa3ed6ef6b_2\", \"run_number\": 6, \"metric\": null, \"status\": \"Completed\", \"run_type\": \"azureml.scriptrun\", \"training_percent\": \"100\", \"start_time\": \"2021-07-07T15:43:37.530327Z\", \"end_time\": \"2021-07-07T15:44:12.69568Z\", \"created_time\": \"2021-07-07T15:40:37.333737Z\", \"created_time_dt\": \"2021-07-07T15:40:37.333737Z\", \"duration\": \"0:03:35\", \"iteration\": \"2\", \"goal\": \"accuracy_max\", \"run_name\": \"MaxAbsScaler, RandomForest\", \"run_properties\": \"copy=True\", \"primary_metric\": 0.97402757, \"best_metric\": 1.0}, {\"run_id\": \"AutoML_539e38c3-d87c-4ecd-83df-c4fa3ed6ef6b_1\", \"run_number\": 7, \"metric\": null, \"status\": \"Completed\", \"run_type\": \"azureml.scriptrun\", \"training_percent\": \"100\", \"start_time\": \"2021-07-07T15:40:51.745305Z\", \"end_time\": \"2021-07-07T15:41:31.681392Z\", \"created_time\": \"2021-07-07T15:40:37.361029Z\", \"created_time_dt\": \"2021-07-07T15:40:37.361029Z\", \"duration\": \"0:00:54\", \"iteration\": \"1\", \"goal\": \"accuracy_max\", \"run_name\": \"MaxAbsScaler, XGBoostClassifier\", \"run_properties\": \"copy=True\", \"primary_metric\": 1.0, \"best_metric\": 1.0}, {\"run_id\": \"AutoML_539e38c3-d87c-4ecd-83df-c4fa3ed6ef6b_4\", \"run_number\": 8, \"metric\": null, \"status\": \"Completed\", \"run_type\": \"azureml.scriptrun\", \"training_percent\": \"100\", \"start_time\": \"2021-07-07T15:41:46.142768Z\", \"end_time\": \"2021-07-07T15:42:22.616614Z\", \"created_time\": \"2021-07-07T15:40:37.363778Z\", \"created_time_dt\": \"2021-07-07T15:40:37.363778Z\", \"duration\": \"0:01:45\", \"iteration\": \"4\", \"goal\": \"accuracy_max\", \"run_name\": \"MaxAbsScaler, RandomForest\", \"run_properties\": \"copy=True\", \"primary_metric\": 0.98387494, \"best_metric\": 1.0}, {\"run_id\": \"AutoML_539e38c3-d87c-4ecd-83df-c4fa3ed6ef6b_3\", \"run_number\": 9, \"metric\": null, \"status\": \"Completed\", \"run_type\": \"azureml.scriptrun\", \"training_percent\": \"100\", \"start_time\": \"2021-07-07T15:44:09.180102Z\", \"end_time\": \"2021-07-07T15:45:50.618663Z\", \"created_time\": \"2021-07-07T15:40:37.389963Z\", \"created_time_dt\": \"2021-07-07T15:40:37.389963Z\", \"duration\": \"0:05:13\", \"iteration\": \"3\", \"goal\": \"accuracy_max\", \"run_name\": \"MaxAbsScaler, RandomForest\", \"run_properties\": \"copy=True\", \"primary_metric\": 0.94965534, \"best_metric\": 1.0}, {\"run_id\": \"AutoML_539e38c3-d87c-4ecd-83df-c4fa3ed6ef6b_5\", \"run_number\": 10, \"metric\": null, \"status\": \"Completed\", \"run_type\": \"azureml.scriptrun\", \"training_percent\": \"100\", \"start_time\": \"2021-07-07T15:44:07.220552Z\", \"end_time\": \"2021-07-07T15:45:31.944815Z\", \"created_time\": \"2021-07-07T15:41:33.131012Z\", \"created_time_dt\": \"2021-07-07T15:41:33.131012Z\", \"duration\": \"0:03:58\", \"iteration\": \"5\", \"goal\": \"accuracy_max\", \"run_name\": \"MaxAbsScaler, RandomForest\", \"run_properties\": \"copy=True\", \"primary_metric\": 0.96553422, \"best_metric\": 1.0}, {\"run_id\": \"AutoML_539e38c3-d87c-4ecd-83df-c4fa3ed6ef6b_6\", \"run_number\": 11, \"metric\": null, \"status\": \"Completed\", \"run_type\": \"azureml.scriptrun\", \"training_percent\": \"100\", \"start_time\": \"2021-07-07T15:44:07.786825Z\", \"end_time\": \"2021-07-07T15:45:56.295031Z\", \"created_time\": \"2021-07-07T15:42:25.502751Z\", \"created_time_dt\": \"2021-07-07T15:42:25.502751Z\", \"duration\": \"0:03:30\", \"iteration\": \"6\", \"goal\": \"accuracy_max\", \"run_name\": \"SparseNormalizer, LightGBM\", \"run_properties\": \"copy=True, norm='l2'\", \"primary_metric\": 0.99827671, \"best_metric\": 1.0}, {\"run_id\": \"AutoML_539e38c3-d87c-4ecd-83df-c4fa3ed6ef6b_7\", \"run_number\": 12, \"metric\": null, \"status\": \"Completed\", \"run_type\": \"azureml.scriptrun\", \"training_percent\": \"100\", \"start_time\": \"2021-07-07T15:44:07.453111Z\", \"end_time\": \"2021-07-07T15:46:12.793767Z\", \"created_time\": \"2021-07-07T15:43:26.387037Z\", \"created_time_dt\": \"2021-07-07T15:43:26.387037Z\", \"duration\": \"0:02:46\", \"iteration\": \"7\", \"goal\": \"accuracy_max\", \"run_name\": \"MaxAbsScaler, ExtremeRandomTrees\", \"run_properties\": \"copy=True\", \"primary_metric\": 0.9689808, \"best_metric\": 1.0}, {\"run_id\": \"AutoML_539e38c3-d87c-4ecd-83df-c4fa3ed6ef6b_8\", \"run_number\": 13, \"metric\": null, \"status\": \"Completed\", \"run_type\": \"azureml.scriptrun\", \"training_percent\": \"100\", \"start_time\": \"2021-07-07T15:44:29.328128Z\", \"end_time\": \"2021-07-07T15:45:09.172362Z\", \"created_time\": \"2021-07-07T15:44:15.186472Z\", \"created_time_dt\": \"2021-07-07T15:44:15.186472Z\", \"duration\": \"0:00:53\", \"iteration\": \"8\", \"goal\": \"accuracy_max\", \"run_name\": \"SparseNormalizer, XGBoostClassifier\", \"run_properties\": \"copy=True, norm='l2'\", \"primary_metric\": 1.0, \"best_metric\": 1.0}, {\"run_id\": \"AutoML_539e38c3-d87c-4ecd-83df-c4fa3ed6ef6b_9\", \"run_number\": 14, \"metric\": null, \"status\": \"Completed\", \"run_type\": \"azureml.scriptrun\", \"training_percent\": \"100\", \"start_time\": \"2021-07-07T15:45:24.03856Z\", \"end_time\": \"2021-07-07T15:46:08.968651Z\", \"created_time\": \"2021-07-07T15:45:11.515808Z\", \"created_time_dt\": \"2021-07-07T15:45:11.515808Z\", \"duration\": \"0:00:57\", \"iteration\": \"9\", \"goal\": \"accuracy_max\", \"run_name\": \"SparseNormalizer, XGBoostClassifier\", \"run_properties\": \"copy=True, norm='max'\", \"primary_metric\": 0.99950763, \"best_metric\": 1.0}, {\"run_id\": \"AutoML_539e38c3-d87c-4ecd-83df-c4fa3ed6ef6b_10\", \"run_number\": 15, \"metric\": null, \"status\": \"Completed\", \"run_type\": \"azureml.scriptrun\", \"training_percent\": \"100\", \"start_time\": \"2021-07-07T15:45:45.733058Z\", \"end_time\": \"2021-07-07T15:46:21.695955Z\", \"created_time\": \"2021-07-07T15:45:33.923566Z\", \"created_time_dt\": \"2021-07-07T15:45:33.923566Z\", \"duration\": \"0:00:47\", \"iteration\": \"10\", \"goal\": \"accuracy_max\", \"run_name\": \"SparseNormalizer, XGBoostClassifier\", \"run_properties\": \"copy=True, norm='l1'\", \"primary_metric\": 1.0, \"best_metric\": 1.0}, {\"run_id\": \"AutoML_539e38c3-d87c-4ecd-83df-c4fa3ed6ef6b_11\", \"run_number\": 16, \"metric\": null, \"status\": \"Completed\", \"run_type\": \"azureml.scriptrun\", \"training_percent\": \"100\", \"start_time\": \"2021-07-07T15:46:04.268301Z\", \"end_time\": \"2021-07-07T15:46:40.80978Z\", \"created_time\": \"2021-07-07T15:45:52.339782Z\", \"created_time_dt\": \"2021-07-07T15:45:52.339782Z\", \"duration\": \"0:00:48\", \"iteration\": \"11\", \"goal\": \"accuracy_max\", \"run_name\": \"SparseNormalizer, XGBoostClassifier\", \"run_properties\": \"copy=True, norm='l2'\", \"primary_metric\": 1.0, \"best_metric\": 1.0}, {\"run_id\": \"AutoML_539e38c3-d87c-4ecd-83df-c4fa3ed6ef6b_12\", \"run_number\": 17, \"metric\": null, \"status\": \"Completed\", \"run_type\": \"azureml.scriptrun\", \"training_percent\": \"100\", \"start_time\": \"2021-07-07T15:46:10.360921Z\", \"end_time\": \"2021-07-07T15:46:49.046154Z\", \"created_time\": \"2021-07-07T15:45:58.123853Z\", \"created_time_dt\": \"2021-07-07T15:45:58.123853Z\", \"duration\": \"0:00:50\", \"iteration\": \"12\", \"goal\": \"accuracy_max\", \"run_name\": \"SparseNormalizer, XGBoostClassifier\", \"run_properties\": \"copy=True, norm='max'\", \"primary_metric\": 1.0, \"best_metric\": 1.0}, {\"run_id\": \"AutoML_539e38c3-d87c-4ecd-83df-c4fa3ed6ef6b_13\", \"run_number\": 18, \"metric\": null, \"status\": \"Completed\", \"run_type\": \"azureml.scriptrun\", \"training_percent\": \"100\", \"start_time\": \"2021-07-07T15:46:24.804363Z\", \"end_time\": \"2021-07-07T15:47:10.424606Z\", \"created_time\": \"2021-07-07T15:46:10.757073Z\", \"created_time_dt\": \"2021-07-07T15:46:10.757073Z\", \"duration\": \"0:00:59\", \"iteration\": \"13\", \"goal\": \"accuracy_max\", \"run_name\": \"SparseNormalizer, XGBoostClassifier\", \"run_properties\": \"copy=True, norm='l1'\", \"primary_metric\": 1.0, \"best_metric\": 1.0}, {\"run_id\": \"AutoML_539e38c3-d87c-4ecd-83df-c4fa3ed6ef6b_14\", \"run_number\": 19, \"metric\": null, \"status\": \"Completed\", \"run_type\": \"azureml.scriptrun\", \"training_percent\": \"100\", \"start_time\": \"2021-07-07T15:46:28.81937Z\", \"end_time\": \"2021-07-07T15:47:05.894212Z\", \"created_time\": \"2021-07-07T15:46:14.635751Z\", \"created_time_dt\": \"2021-07-07T15:46:14.635751Z\", \"duration\": \"0:00:51\", \"iteration\": \"14\", \"goal\": \"accuracy_max\", \"run_name\": \"StandardScalerWrapper, XGBoostClassifier\", \"run_properties\": \"\\n    copy=True,\\n    with_mean=False,\\n    with_std=False\\n\", \"primary_metric\": 1.0, \"best_metric\": 1.0}, {\"run_id\": \"AutoML_539e38c3-d87c-4ecd-83df-c4fa3ed6ef6b_15\", \"run_number\": 20, \"metric\": null, \"status\": \"Completed\", \"run_type\": \"azureml.scriptrun\", \"training_percent\": \"100\", \"start_time\": \"2021-07-07T15:46:36.24001Z\", \"end_time\": \"2021-07-07T15:47:12.809946Z\", \"created_time\": \"2021-07-07T15:46:23.48518Z\", \"created_time_dt\": \"2021-07-07T15:46:23.48518Z\", \"duration\": \"0:00:49\", \"iteration\": \"15\", \"goal\": \"accuracy_max\", \"run_name\": \"SparseNormalizer, XGBoostClassifier\", \"run_properties\": \"copy=True, norm='l2'\", \"primary_metric\": 1.0, \"best_metric\": 1.0}, {\"run_id\": \"AutoML_539e38c3-d87c-4ecd-83df-c4fa3ed6ef6b_16\", \"run_number\": 21, \"metric\": null, \"status\": \"Completed\", \"run_type\": \"azureml.scriptrun\", \"training_percent\": \"100\", \"start_time\": \"2021-07-07T15:46:57.31548Z\", \"end_time\": \"2021-07-07T15:47:46.132862Z\", \"created_time\": \"2021-07-07T15:46:42.542246Z\", \"created_time_dt\": \"2021-07-07T15:46:42.542246Z\", \"duration\": \"0:01:03\", \"iteration\": \"16\", \"goal\": \"accuracy_max\", \"run_name\": \"SparseNormalizer, XGBoostClassifier\", \"run_properties\": \"copy=True, norm='max'\", \"primary_metric\": 1.0, \"best_metric\": 1.0}, {\"run_id\": \"AutoML_539e38c3-d87c-4ecd-83df-c4fa3ed6ef6b_17\", \"run_number\": 22, \"metric\": null, \"status\": \"Completed\", \"run_type\": \"azureml.scriptrun\", \"training_percent\": \"100\", \"start_time\": \"2021-07-07T15:47:05.109613Z\", \"end_time\": \"2021-07-07T15:47:42.169634Z\", \"created_time\": \"2021-07-07T15:46:50.763343Z\", \"created_time_dt\": \"2021-07-07T15:46:50.763343Z\", \"duration\": \"0:00:51\", \"iteration\": \"17\", \"goal\": \"accuracy_max\", \"run_name\": \"SparseNormalizer, XGBoostClassifier\", \"run_properties\": \"copy=True, norm='max'\", \"primary_metric\": 1.0, \"best_metric\": 1.0}, {\"run_id\": \"AutoML_539e38c3-d87c-4ecd-83df-c4fa3ed6ef6b_18\", \"run_number\": 23, \"metric\": null, \"status\": \"Completed\", \"run_type\": \"azureml.scriptrun\", \"training_percent\": \"100\", \"start_time\": \"2021-07-07T15:47:23.880946Z\", \"end_time\": \"2021-07-07T15:48:01.596006Z\", \"created_time\": \"2021-07-07T15:47:07.756099Z\", \"created_time_dt\": \"2021-07-07T15:47:07.756099Z\", \"duration\": \"0:00:53\", \"iteration\": \"18\", \"goal\": \"accuracy_max\", \"run_name\": \"SparseNormalizer, XGBoostClassifier\", \"run_properties\": \"copy=True, norm='l2'\", \"primary_metric\": 1.0, \"best_metric\": 1.0}, {\"run_id\": \"AutoML_539e38c3-d87c-4ecd-83df-c4fa3ed6ef6b_19\", \"run_number\": 24, \"metric\": null, \"status\": \"Completed\", \"run_type\": \"azureml.scriptrun\", \"training_percent\": \"100\", \"start_time\": \"2021-07-07T15:47:26.418563Z\", \"end_time\": \"2021-07-07T15:48:03.485025Z\", \"created_time\": \"2021-07-07T15:47:12.241607Z\", \"created_time_dt\": \"2021-07-07T15:47:12.241607Z\", \"duration\": \"0:00:51\", \"iteration\": \"19\", \"goal\": \"accuracy_max\", \"run_name\": \"SparseNormalizer, XGBoostClassifier\", \"run_properties\": \"copy=True, norm='max'\", \"primary_metric\": 0.99901526, \"best_metric\": 1.0}, {\"run_id\": \"AutoML_539e38c3-d87c-4ecd-83df-c4fa3ed6ef6b_20\", \"run_number\": 25, \"metric\": null, \"status\": \"Completed\", \"run_type\": \"azureml.scriptrun\", \"training_percent\": \"100\", \"start_time\": \"2021-07-07T15:47:29.413745Z\", \"end_time\": \"2021-07-07T15:48:06.529552Z\", \"created_time\": \"2021-07-07T15:47:15.520342Z\", \"created_time_dt\": \"2021-07-07T15:47:15.520342Z\", \"duration\": \"0:00:51\", \"iteration\": \"20\", \"goal\": \"accuracy_max\", \"run_name\": \"StandardScalerWrapper, LightGBM\", \"run_properties\": \"\\n    copy=True,\\n    with_mean=False,\\n    with_std=False\\n\", \"primary_metric\": 0.99815362, \"best_metric\": 1.0}, {\"run_id\": \"AutoML_539e38c3-d87c-4ecd-83df-c4fa3ed6ef6b_21\", \"run_number\": 26, \"metric\": null, \"status\": \"Completed\", \"run_type\": \"azureml.scriptrun\", \"training_percent\": \"100\", \"start_time\": \"2021-07-07T15:47:58.218137Z\", \"end_time\": \"2021-07-07T15:48:38.238089Z\", \"created_time\": \"2021-07-07T15:47:44.272268Z\", \"created_time_dt\": \"2021-07-07T15:47:44.272268Z\", \"duration\": \"0:00:53\", \"iteration\": \"21\", \"goal\": \"accuracy_max\", \"run_name\": \"SparseNormalizer, XGBoostClassifier\", \"run_properties\": \"copy=True, norm='l2'\", \"primary_metric\": 1.0, \"best_metric\": 1.0}, {\"run_id\": \"AutoML_539e38c3-d87c-4ecd-83df-c4fa3ed6ef6b_22\", \"run_number\": 27, \"metric\": null, \"status\": \"Completed\", \"run_type\": \"azureml.scriptrun\", \"training_percent\": \"100\", \"start_time\": \"2021-07-07T15:48:02.761204Z\", \"end_time\": \"2021-07-07T15:48:39.840324Z\", \"created_time\": \"2021-07-07T15:47:48.003052Z\", \"created_time_dt\": \"2021-07-07T15:47:48.003052Z\", \"duration\": \"0:00:51\", \"iteration\": \"22\", \"goal\": \"accuracy_max\", \"run_name\": \"SparseNormalizer, XGBoostClassifier\", \"run_properties\": \"copy=True, norm='max'\", \"primary_metric\": 1.0, \"best_metric\": 1.0}, {\"run_id\": \"AutoML_539e38c3-d87c-4ecd-83df-c4fa3ed6ef6b_23\", \"run_number\": 28, \"metric\": null, \"status\": \"Completed\", \"run_type\": \"azureml.scriptrun\", \"training_percent\": \"100\", \"start_time\": \"2021-07-07T15:48:19.662825Z\", \"end_time\": \"2021-07-07T15:49:00.214187Z\", \"created_time\": \"2021-07-07T15:48:03.368074Z\", \"created_time_dt\": \"2021-07-07T15:48:03.368074Z\", \"duration\": \"0:00:56\", \"iteration\": \"23\", \"goal\": \"accuracy_max\", \"run_name\": \"SparseNormalizer, XGBoostClassifier\", \"run_properties\": \"copy=True, norm='l1'\", \"primary_metric\": 1.0, \"best_metric\": 1.0}, {\"run_id\": \"AutoML_539e38c3-d87c-4ecd-83df-c4fa3ed6ef6b_24\", \"run_number\": 29, \"metric\": null, \"status\": \"Completed\", \"run_type\": \"azureml.scriptrun\", \"training_percent\": \"100\", \"start_time\": \"2021-07-07T15:48:20.309254Z\", \"end_time\": \"2021-07-07T15:49:08.966363Z\", \"created_time\": \"2021-07-07T15:48:06.550174Z\", \"created_time_dt\": \"2021-07-07T15:48:06.550174Z\", \"duration\": \"0:01:02\", \"iteration\": \"24\", \"goal\": \"accuracy_max\", \"run_name\": \"SparseNormalizer, XGBoostClassifier\", \"run_properties\": \"copy=True, norm='l2'\", \"primary_metric\": 1.0, \"best_metric\": 1.0}, {\"run_id\": \"AutoML_539e38c3-d87c-4ecd-83df-c4fa3ed6ef6b_25\", \"run_number\": 30, \"metric\": null, \"status\": \"Completed\", \"run_type\": \"azureml.scriptrun\", \"training_percent\": \"100\", \"start_time\": \"2021-07-07T15:48:21.421134Z\", \"end_time\": \"2021-07-07T15:48:57.426503Z\", \"created_time\": \"2021-07-07T15:48:10.784945Z\", \"created_time_dt\": \"2021-07-07T15:48:10.784945Z\", \"duration\": \"0:00:46\", \"iteration\": \"25\", \"goal\": \"accuracy_max\", \"run_name\": \"StandardScalerWrapper, XGBoostClassifier\", \"run_properties\": \"\\n    copy=True,\\n    with_mean=False,\\n    with_std=False\\n\", \"primary_metric\": 0.51797144, \"best_metric\": 1.0}, {\"run_id\": \"AutoML_539e38c3-d87c-4ecd-83df-c4fa3ed6ef6b_26\", \"run_number\": 31, \"metric\": null, \"status\": \"Completed\", \"run_type\": \"azureml.scriptrun\", \"training_percent\": \"100\", \"start_time\": \"2021-07-07T15:48:53.548574Z\", \"end_time\": \"2021-07-07T15:49:32.842212Z\", \"created_time\": \"2021-07-07T15:48:40.002445Z\", \"created_time_dt\": \"2021-07-07T15:48:40.002445Z\", \"duration\": \"0:00:52\", \"iteration\": \"26\", \"goal\": \"accuracy_max\", \"run_name\": \"SparseNormalizer, XGBoostClassifier\", \"run_properties\": \"copy=True, norm='l2'\", \"primary_metric\": 1.0, \"best_metric\": 1.0}, {\"run_id\": \"AutoML_539e38c3-d87c-4ecd-83df-c4fa3ed6ef6b_27\", \"run_number\": 32, \"metric\": null, \"status\": \"Completed\", \"run_type\": \"azureml.scriptrun\", \"training_percent\": \"100\", \"start_time\": \"2021-07-07T15:48:55.84289Z\", \"end_time\": \"2021-07-07T15:49:45.899808Z\", \"created_time\": \"2021-07-07T15:48:45.565636Z\", \"created_time_dt\": \"2021-07-07T15:48:45.565636Z\", \"duration\": \"0:01:00\", \"iteration\": \"27\", \"goal\": \"accuracy_max\", \"run_name\": \"SparseNormalizer, XGBoostClassifier\", \"run_properties\": \"copy=True, norm='l2'\", \"primary_metric\": 1.0, \"best_metric\": 1.0}, {\"run_id\": \"AutoML_539e38c3-d87c-4ecd-83df-c4fa3ed6ef6b_28\", \"run_number\": 33, \"metric\": null, \"status\": \"Completed\", \"run_type\": \"azureml.scriptrun\", \"training_percent\": \"100\", \"start_time\": \"2021-07-07T15:49:11.209567Z\", \"end_time\": \"2021-07-07T15:49:59.062004Z\", \"created_time\": \"2021-07-07T15:48:59.280249Z\", \"created_time_dt\": \"2021-07-07T15:48:59.280249Z\", \"duration\": \"0:00:59\", \"iteration\": \"28\", \"goal\": \"accuracy_max\", \"run_name\": \"StandardScalerWrapper, XGBoostClassifier\", \"run_properties\": \"\\n    copy=True,\\n    with_mean=False,\\n    with_std=False\\n\", \"primary_metric\": 1.0, \"best_metric\": 1.0}, {\"run_id\": \"AutoML_539e38c3-d87c-4ecd-83df-c4fa3ed6ef6b_29\", \"run_number\": 34, \"metric\": null, \"status\": \"Completed\", \"run_type\": \"azureml.scriptrun\", \"training_percent\": \"100\", \"start_time\": \"2021-07-07T15:49:14.53501Z\", \"end_time\": \"2021-07-07T15:49:53.80251Z\", \"created_time\": \"2021-07-07T15:49:02.63263Z\", \"created_time_dt\": \"2021-07-07T15:49:02.63263Z\", \"duration\": \"0:00:51\", \"iteration\": \"29\", \"goal\": \"accuracy_max\", \"run_name\": \"MaxAbsScaler, LogisticRegression\", \"run_properties\": \"copy=True\", \"primary_metric\": 1.0, \"best_metric\": 1.0}, {\"run_id\": \"AutoML_539e38c3-d87c-4ecd-83df-c4fa3ed6ef6b_30\", \"run_number\": 35, \"metric\": null, \"status\": \"Completed\", \"run_type\": \"azureml.scriptrun\", \"training_percent\": \"100\", \"start_time\": \"2021-07-07T15:49:21.492628Z\", \"end_time\": \"2021-07-07T15:49:57.428079Z\", \"created_time\": \"2021-07-07T15:49:11.994854Z\", \"created_time_dt\": \"2021-07-07T15:49:11.994854Z\", \"duration\": \"0:00:45\", \"iteration\": \"30\", \"goal\": \"accuracy_max\", \"run_name\": \"StandardScalerWrapper, XGBoostClassifier\", \"run_properties\": \"\\n    copy=True,\\n    with_mean=False,\\n    with_std=False\\n\", \"primary_metric\": 0.51797144, \"best_metric\": 1.0}, {\"run_id\": \"AutoML_539e38c3-d87c-4ecd-83df-c4fa3ed6ef6b_31\", \"run_number\": 36, \"metric\": null, \"status\": \"Canceled\", \"run_type\": \"azureml.scriptrun\", \"training_percent\": \"100\", \"start_time\": \"2021-07-07T15:49:42.491321Z\", \"end_time\": \"2021-07-07T15:50:54.990963Z\", \"created_time\": \"2021-07-07T15:49:34.899153Z\", \"created_time_dt\": \"2021-07-07T15:49:34.899153Z\", \"duration\": \"0:01:20\", \"iteration\": \"31\", \"goal\": \"accuracy_max\", \"run_name\": \"StandardScalerWrapper, LogisticRegression\", \"run_properties\": \"\\n    copy=True,\\n    with_mean=False,\\n    with_std=True\\n\", \"primary_metric\": 0.99963072, \"best_metric\": 1.0}, {\"run_id\": \"AutoML_539e38c3-d87c-4ecd-83df-c4fa3ed6ef6b_32\", \"run_number\": 37, \"metric\": null, \"status\": \"Completed\", \"run_type\": \"azureml.scriptrun\", \"training_percent\": \"100\", \"start_time\": \"2021-07-07T15:49:56.894269Z\", \"end_time\": \"2021-07-07T15:50:37.721302Z\", \"created_time\": \"2021-07-07T15:49:47.709457Z\", \"created_time_dt\": \"2021-07-07T15:49:47.709457Z\", \"duration\": \"0:00:50\", \"iteration\": \"32\", \"goal\": \"accuracy_max\", \"run_name\": \"SparseNormalizer, XGBoostClassifier\", \"run_properties\": \"copy=True, norm='max'\", \"primary_metric\": 1.0, \"best_metric\": 1.0}, {\"run_id\": \"AutoML_539e38c3-d87c-4ecd-83df-c4fa3ed6ef6b_33\", \"run_number\": 38, \"metric\": null, \"status\": \"Completed\", \"run_type\": \"azureml.scriptrun\", \"training_percent\": \"100\", \"start_time\": \"2021-07-07T15:50:04.848841Z\", \"end_time\": \"2021-07-07T15:50:42.901671Z\", \"created_time\": \"2021-07-07T15:49:55.72477Z\", \"created_time_dt\": \"2021-07-07T15:49:55.72477Z\", \"duration\": \"0:00:47\", \"iteration\": \"33\", \"goal\": \"accuracy_max\", \"run_name\": \"MaxAbsScaler, LightGBM\", \"run_properties\": \"copy=True\", \"primary_metric\": 0.99138355, \"best_metric\": 1.0}, {\"run_id\": \"AutoML_539e38c3-d87c-4ecd-83df-c4fa3ed6ef6b_34\", \"run_number\": 39, \"metric\": null, \"status\": \"Completed\", \"run_type\": \"azureml.scriptrun\", \"training_percent\": \"100\", \"start_time\": \"2021-07-07T15:50:10.035259Z\", \"end_time\": \"2021-07-07T15:50:48.730157Z\", \"created_time\": \"2021-07-07T15:50:00.366527Z\", \"created_time_dt\": \"2021-07-07T15:50:00.366527Z\", \"duration\": \"0:00:48\", \"iteration\": \"34\", \"goal\": \"accuracy_max\", \"run_name\": \"SparseNormalizer, LightGBM\", \"run_properties\": \"copy=True, norm='l1'\", \"primary_metric\": 1.0, \"best_metric\": 1.0}, {\"run_id\": \"AutoML_539e38c3-d87c-4ecd-83df-c4fa3ed6ef6b_35\", \"run_number\": 40, \"metric\": null, \"status\": \"Completed\", \"run_type\": \"azureml.scriptrun\", \"training_percent\": \"100\", \"start_time\": \"2021-07-07T15:50:13.117341Z\", \"end_time\": \"2021-07-07T15:50:48.519234Z\", \"created_time\": \"2021-07-07T15:50:05.323442Z\", \"created_time_dt\": \"2021-07-07T15:50:05.323442Z\", \"duration\": \"0:00:43\", \"iteration\": \"35\", \"goal\": \"accuracy_max\", \"run_name\": \"StandardScalerWrapper, XGBoostClassifier\", \"run_properties\": \"\\n    copy=True,\\n    with_mean=False,\\n    with_std=False\\n\", \"primary_metric\": 0.51797144, \"best_metric\": 1.0}, {\"run_id\": \"AutoML_539e38c3-d87c-4ecd-83df-c4fa3ed6ef6b_36\", \"run_number\": 41, \"metric\": null, \"status\": \"Canceled\", \"run_type\": \"azureml.scriptrun\", \"training_percent\": \"100\", \"start_time\": \"2021-07-07T15:50:49.596699Z\", \"end_time\": \"2021-07-07T15:50:54.780571Z\", \"created_time\": \"2021-07-07T15:50:39.606188Z\", \"created_time_dt\": \"2021-07-07T15:50:39.606188Z\", \"duration\": \"0:00:15\", \"iteration\": \"36\", \"goal\": null, \"run_name\": \"Canceled\", \"run_properties\": null}, {\"run_id\": \"AutoML_539e38c3-d87c-4ecd-83df-c4fa3ed6ef6b_37\", \"run_number\": 42, \"metric\": null, \"status\": \"Canceled\", \"run_type\": \"azureml.scriptrun\", \"training_percent\": \"100\", \"start_time\": \"2021-07-07T15:50:53.130242Z\", \"end_time\": \"2021-07-07T15:51:00.376796Z\", \"created_time\": \"2021-07-07T15:50:45.640029Z\", \"created_time_dt\": \"2021-07-07T15:50:45.640029Z\", \"duration\": \"0:00:14\", \"iteration\": \"37\", \"goal\": null, \"run_name\": \"Canceled\", \"run_properties\": null}, {\"run_id\": \"AutoML_539e38c3-d87c-4ecd-83df-c4fa3ed6ef6b_38\", \"run_number\": 43, \"metric\": null, \"status\": \"Completed\", \"run_type\": \"azureml.scriptrun\", \"training_percent\": \"100\", \"start_time\": \"2021-07-07T15:51:09.699481Z\", \"end_time\": \"2021-07-07T15:52:04.590357Z\", \"created_time\": \"2021-07-07T15:51:01.154884Z\", \"created_time_dt\": \"2021-07-07T15:51:01.154884Z\", \"duration\": \"0:01:03\", \"iteration\": \"38\", \"goal\": \"accuracy_max\", \"run_name\": \"VotingEnsemble\", \"run_properties\": \"\\n    estimators=[('34', Pipeline(memory=None,\\n             steps=[('sparsenormalizer', Normalizer(copy=True, norm='l1'\", \"primary_metric\": 1.0, \"best_metric\": 1.0}, {\"run_id\": \"AutoML_539e38c3-d87c-4ecd-83df-c4fa3ed6ef6b_39\", \"run_number\": 44, \"metric\": null, \"status\": \"Completed\", \"run_type\": \"azureml.scriptrun\", \"training_percent\": \"100\", \"start_time\": \"2021-07-07T15:51:11.063632Z\", \"end_time\": \"2021-07-07T15:52:09.942708Z\", \"created_time\": \"2021-07-07T15:51:01.193968Z\", \"created_time_dt\": \"2021-07-07T15:51:01.193968Z\", \"duration\": \"0:01:08\", \"iteration\": \"39\", \"goal\": \"accuracy_max\", \"run_name\": \"StackEnsemble\", \"run_properties\": \"\\n    base_learners=[('34', Pipeline(memory=None,\\n             steps=[('sparsenormalizer', Normalizer(copy=True, norm='l1'\", \"primary_metric\": 1.0, \"best_metric\": 1.0}], \"children_metrics\": {\"categories\": [0], \"series\": {\"average_precision_score_weighted\": [{\"categories\": [\"0\", \"1\", \"2\", \"3\", \"4\", \"5\", \"6\", \"7\", \"8\", \"9\", \"10\", \"11\", \"12\", \"13\", \"14\", \"15\", \"16\", \"17\", \"18\", \"19\", \"20\", \"21\", \"22\", \"23\", \"24\", \"25\", \"26\", \"27\", \"28\", \"29\", \"30\", \"31\", \"32\", \"33\", \"34\", \"35\", \"38\", \"39\"], \"mode\": \"markers\", \"name\": \"average_precision_score_weighted\", \"stepped\": false, \"type\": \"scatter\", \"data\": [1.0000000000000002, 1.0, 0.998335526177199, 0.9922884009813169, 0.998775560753821, 0.9886778467547046, 0.9999599407742185, 0.9944693359582679, 1.0, 1.0, 1.0, 1.0, 1.0, 1.0, 1.0, 1.0, 1.0, 1.0, 1.0, 0.9999943703702535, 0.9999939983526057, 1.0, 1.0, 1.0, 1.0, 0.5007303705416852, 1.0, 1.0, 1.0, 1.0, 0.5007303705416852, 0.999998363691034, 1.0, 0.9999371408742267, 1.0, 0.5007303705416852, 1.0, 1.0]}, {\"categories\": [\"0\", \"1\", \"2\", \"3\", \"4\", \"5\", \"6\", \"7\", \"8\", \"9\", \"10\", \"11\", \"12\", \"13\", \"14\", \"15\", \"16\", \"17\", \"18\", \"19\", \"20\", \"21\", \"22\", \"23\", \"24\", \"25\", \"26\", \"27\", \"28\", \"29\", \"30\", \"31\", \"32\", \"33\", \"34\", \"35\", \"38\", \"39\"], \"mode\": \"lines\", \"name\": \"average_precision_score_weighted_max\", \"stepped\": true, \"type\": \"scatter\", \"data\": [1.0000000000000002, 1.0000000000000002, 1.0000000000000002, 1.0000000000000002, 1.0000000000000002, 1.0000000000000002, 1.0000000000000002, 1.0000000000000002, 1.0000000000000002, 1.0000000000000002, 1.0000000000000002, 1.0000000000000002, 1.0000000000000002, 1.0000000000000002, 1.0000000000000002, 1.0000000000000002, 1.0000000000000002, 1.0000000000000002, 1.0000000000000002, 1.0000000000000002, 1.0000000000000002, 1.0000000000000002, 1.0000000000000002, 1.0000000000000002, 1.0000000000000002, 1.0000000000000002, 1.0000000000000002, 1.0000000000000002, 1.0000000000000002, 1.0000000000000002, 1.0000000000000002, 1.0000000000000002, 1.0000000000000002, 1.0000000000000002, 1.0000000000000002, 1.0000000000000002, 1.0000000000000002, 1.0000000000000002]}], \"log_loss\": [{\"categories\": [\"0\", \"1\", \"2\", \"3\", \"4\", \"5\", \"6\", \"7\", \"8\", \"9\", \"10\", \"11\", \"12\", \"13\", \"14\", \"15\", \"16\", \"17\", \"18\", \"19\", \"20\", \"21\", \"22\", \"23\", \"24\", \"25\", \"26\", \"27\", \"28\", \"29\", \"30\", \"31\", \"32\", \"33\", \"34\", \"35\", \"38\", \"39\"], \"mode\": \"markers\", \"name\": \"log_loss\", \"stepped\": false, \"type\": \"scatter\", \"data\": [3.5532175214245746e-05, 0.00169919847277639, 0.11052490915945545, 0.19568703690563002, 0.12633344645594446, 0.22529417374517868, 0.013768975951165718, 0.11092886853070112, 0.0013506799681025263, 0.007049682803862451, 0.0018676410583412107, 0.041461776300511004, 0.001769557882590923, 0.0007412006362119496, 0.0015532335392826797, 0.007530615621301154, 0.0015874742389627675, 0.0059786347454937145, 0.0014434145822274948, 0.2080449633905037, 0.011678742859082126, 0.0012736287168596038, 0.0026881008175486817, 0.0012276860412045608, 0.0006877902906658558, 0.6926032818162389, 0.0026642976506686795, 0.0007690630934731726, 0.0024174349886382004, 0.00016295333455737084, 0.6926017458495091, 0.0060765871976602255, 0.004701929494103436, 0.03618024828730899, 0.005010869383262297, 0.6925745871554746, 0.0025517981573337477, 0.5595074757814184]}, {\"categories\": [\"0\", \"1\", \"2\", \"3\", \"4\", \"5\", \"6\", \"7\", \"8\", \"9\", \"10\", \"11\", \"12\", \"13\", \"14\", \"15\", \"16\", \"17\", \"18\", \"19\", \"20\", \"21\", \"22\", \"23\", \"24\", \"25\", \"26\", \"27\", \"28\", \"29\", \"30\", \"31\", \"32\", \"33\", \"34\", \"35\", \"38\", \"39\"], \"mode\": \"lines\", \"name\": \"log_loss_min\", \"stepped\": true, \"type\": \"scatter\", \"data\": [3.5532175214245746e-05, 3.5532175214245746e-05, 3.5532175214245746e-05, 3.5532175214245746e-05, 3.5532175214245746e-05, 3.5532175214245746e-05, 3.5532175214245746e-05, 3.5532175214245746e-05, 3.5532175214245746e-05, 3.5532175214245746e-05, 3.5532175214245746e-05, 3.5532175214245746e-05, 3.5532175214245746e-05, 3.5532175214245746e-05, 3.5532175214245746e-05, 3.5532175214245746e-05, 3.5532175214245746e-05, 3.5532175214245746e-05, 3.5532175214245746e-05, 3.5532175214245746e-05, 3.5532175214245746e-05, 3.5532175214245746e-05, 3.5532175214245746e-05, 3.5532175214245746e-05, 3.5532175214245746e-05, 3.5532175214245746e-05, 3.5532175214245746e-05, 3.5532175214245746e-05, 3.5532175214245746e-05, 3.5532175214245746e-05, 3.5532175214245746e-05, 3.5532175214245746e-05, 3.5532175214245746e-05, 3.5532175214245746e-05, 3.5532175214245746e-05, 3.5532175214245746e-05, 3.5532175214245746e-05, 3.5532175214245746e-05]}], \"AUC_weighted\": [{\"categories\": [\"0\", \"1\", \"2\", \"3\", \"4\", \"5\", \"6\", \"7\", \"8\", \"9\", \"10\", \"11\", \"12\", \"13\", \"14\", \"15\", \"16\", \"17\", \"18\", \"19\", \"20\", \"21\", \"22\", \"23\", \"24\", \"25\", \"26\", \"27\", \"28\", \"29\", \"30\", \"31\", \"32\", \"33\", \"34\", \"35\", \"38\", \"39\"], \"mode\": \"markers\", \"name\": \"AUC_weighted\", \"stepped\": false, \"type\": \"scatter\", \"data\": [1.0, 1.0, 0.9982922833215397, 0.9919893687696731, 0.9987513256182433, 0.988392726156448, 0.9999595854913533, 0.9942584727750289, 1.0, 1.0, 1.0, 1.0, 1.0, 1.0, 1.0, 1.0, 1.0, 1.0, 1.0, 0.9999943507834268, 0.9999939859813702, 1.0, 1.0, 1.0, 1.0, 0.5, 1.0, 1.0, 1.0, 1.0, 0.5, 0.9999983610295513, 1.0, 0.9999375457497758, 1.0, 0.5, 1.0, 1.0]}, {\"categories\": [\"0\", \"1\", \"2\", \"3\", \"4\", \"5\", \"6\", \"7\", \"8\", \"9\", \"10\", \"11\", \"12\", \"13\", \"14\", \"15\", \"16\", \"17\", \"18\", \"19\", \"20\", \"21\", \"22\", \"23\", \"24\", \"25\", \"26\", \"27\", \"28\", \"29\", \"30\", \"31\", \"32\", \"33\", \"34\", \"35\", \"38\", \"39\"], \"mode\": \"lines\", \"name\": \"AUC_weighted_max\", \"stepped\": true, \"type\": \"scatter\", \"data\": [1.0, 1.0, 1.0, 1.0, 1.0, 1.0, 1.0, 1.0, 1.0, 1.0, 1.0, 1.0, 1.0, 1.0, 1.0, 1.0, 1.0, 1.0, 1.0, 1.0, 1.0, 1.0, 1.0, 1.0, 1.0, 1.0, 1.0, 1.0, 1.0, 1.0, 1.0, 1.0, 1.0, 1.0, 1.0, 1.0, 1.0, 1.0]}], \"precision_score_macro\": [{\"categories\": [\"0\", \"1\", \"2\", \"3\", \"4\", \"5\", \"6\", \"7\", \"8\", \"9\", \"10\", \"11\", \"12\", \"13\", \"14\", \"15\", \"16\", \"17\", \"18\", \"19\", \"20\", \"21\", \"22\", \"23\", \"24\", \"25\", \"26\", \"27\", \"28\", \"29\", \"30\", \"31\", \"32\", \"33\", \"34\", \"35\", \"38\", \"39\"], \"mode\": \"markers\", \"name\": \"precision_score_macro\", \"stepped\": false, \"type\": \"scatter\", \"data\": [1.0, 1.0, 0.9751133668057143, 0.9527250718829432, 0.9843256755877424, 0.9682077358560397, 0.9982805276314036, 0.9693595807519308, 1.0, 0.999526582947306, 1.0, 1.0, 1.0, 1.0, 1.0, 1.0, 1.0, 1.0, 1.0, 0.9990517719102266, 0.9982047677347271, 1.0, 1.0, 1.0, 1.0, 0.25898572131954706, 1.0, 1.0, 1.0, 1.0, 0.25898572131954706, 0.9996437344960344, 1.0, 0.9917777335871499, 1.0, 0.25898572131954706, 1.0, 1.0]}, {\"categories\": [\"0\", \"1\", \"2\", \"3\", \"4\", \"5\", \"6\", \"7\", \"8\", \"9\", \"10\", \"11\", \"12\", \"13\", \"14\", \"15\", \"16\", \"17\", \"18\", \"19\", \"20\", \"21\", \"22\", \"23\", \"24\", \"25\", \"26\", \"27\", \"28\", \"29\", \"30\", \"31\", \"32\", \"33\", \"34\", \"35\", \"38\", \"39\"], \"mode\": \"lines\", \"name\": \"precision_score_macro_max\", \"stepped\": true, \"type\": \"scatter\", \"data\": [1.0, 1.0, 1.0, 1.0, 1.0, 1.0, 1.0, 1.0, 1.0, 1.0, 1.0, 1.0, 1.0, 1.0, 1.0, 1.0, 1.0, 1.0, 1.0, 1.0, 1.0, 1.0, 1.0, 1.0, 1.0, 1.0, 1.0, 1.0, 1.0, 1.0, 1.0, 1.0, 1.0, 1.0, 1.0, 1.0, 1.0, 1.0]}], \"average_precision_score_micro\": [{\"categories\": [\"0\", \"1\", \"2\", \"3\", \"4\", \"5\", \"6\", \"7\", \"8\", \"9\", \"10\", \"11\", \"12\", \"13\", \"14\", \"15\", \"16\", \"17\", \"18\", \"19\", \"20\", \"21\", \"22\", \"23\", \"24\", \"25\", \"26\", \"27\", \"28\", \"29\", \"30\", \"31\", \"32\", \"33\", \"34\", \"35\", \"38\", \"39\"], \"mode\": \"markers\", \"name\": \"average_precision_score_micro\", \"stepped\": false, \"type\": \"scatter\", \"data\": [1.0, 1.0, 0.9975509342717864, 0.991409858399646, 0.9982004063299413, 0.9897680554277909, 0.9999483048052481, 0.9944699126679382, 1.0, 0.9999994549762855, 1.0, 1.0, 1.0, 1.0, 1.0, 1.0, 1.0, 1.0, 1.0, 0.9999871358616126, 0.9999932391897914, 1.0, 1.0, 1.0, 1.0, 0.5093509065903895, 1.0, 1.0, 1.0, 1.0, 0.5093509065903895, 0.9999984106460671, 1.0, 0.9998596357854876, 1.0, 0.5093509065903895, 1.0, 1.0]}, {\"categories\": [\"0\", \"1\", \"2\", \"3\", \"4\", \"5\", \"6\", \"7\", \"8\", \"9\", \"10\", \"11\", \"12\", \"13\", \"14\", \"15\", \"16\", \"17\", \"18\", \"19\", \"20\", \"21\", \"22\", \"23\", \"24\", \"25\", \"26\", \"27\", \"28\", \"29\", \"30\", \"31\", \"32\", \"33\", \"34\", \"35\", \"38\", \"39\"], \"mode\": \"lines\", \"name\": \"average_precision_score_micro_max\", \"stepped\": true, \"type\": \"scatter\", \"data\": [1.0, 1.0, 1.0, 1.0, 1.0, 1.0, 1.0, 1.0, 1.0, 1.0, 1.0, 1.0, 1.0, 1.0, 1.0, 1.0, 1.0, 1.0, 1.0, 1.0, 1.0, 1.0, 1.0, 1.0, 1.0, 1.0, 1.0, 1.0, 1.0, 1.0, 1.0, 1.0, 1.0, 1.0, 1.0, 1.0, 1.0, 1.0]}], \"accuracy\": [{\"categories\": [\"0\", \"1\", \"2\", \"3\", \"4\", \"5\", \"6\", \"7\", \"8\", \"9\", \"10\", \"11\", \"12\", \"13\", \"14\", \"15\", \"16\", \"17\", \"18\", \"19\", \"20\", \"21\", \"22\", \"23\", \"24\", \"25\", \"26\", \"27\", \"28\", \"29\", \"30\", \"31\", \"32\", \"33\", \"34\", \"35\", \"38\", \"39\"], \"mode\": \"markers\", \"name\": \"accuracy\", \"stepped\": false, \"type\": \"scatter\", \"data\": [1.0, 1.0, 0.974027572624323, 0.9496553421959626, 0.9838749384539636, 0.9655342195962581, 0.998276710979813, 0.9689807976366321, 1.0, 0.9995076317085179, 1.0, 1.0, 1.0, 1.0, 1.0, 1.0, 1.0, 1.0, 1.0, 0.9990152634170358, 0.9981536189069424, 1.0, 1.0, 1.0, 1.0, 0.5179714426390941, 1.0, 1.0, 1.0, 1.0, 0.5179714426390941, 0.9996307237813885, 1.0, 0.9913835548990645, 1.0, 0.5179714426390941, 1.0, 1.0]}, {\"categories\": [\"0\", \"1\", \"2\", \"3\", \"4\", \"5\", \"6\", \"7\", \"8\", \"9\", \"10\", \"11\", \"12\", \"13\", \"14\", \"15\", \"16\", \"17\", \"18\", \"19\", \"20\", \"21\", \"22\", \"23\", \"24\", \"25\", \"26\", \"27\", \"28\", \"29\", \"30\", \"31\", \"32\", \"33\", \"34\", \"35\", \"38\", \"39\"], \"mode\": \"lines\", \"name\": \"accuracy_max\", \"stepped\": true, \"type\": \"scatter\", \"data\": [1.0, 1.0, 1.0, 1.0, 1.0, 1.0, 1.0, 1.0, 1.0, 1.0, 1.0, 1.0, 1.0, 1.0, 1.0, 1.0, 1.0, 1.0, 1.0, 1.0, 1.0, 1.0, 1.0, 1.0, 1.0, 1.0, 1.0, 1.0, 1.0, 1.0, 1.0, 1.0, 1.0, 1.0, 1.0, 1.0, 1.0, 1.0]}], \"precision_score_weighted\": [{\"categories\": [\"0\", \"1\", \"2\", \"3\", \"4\", \"5\", \"6\", \"7\", \"8\", \"9\", \"10\", \"11\", \"12\", \"13\", \"14\", \"15\", \"16\", \"17\", \"18\", \"19\", \"20\", \"21\", \"22\", \"23\", \"24\", \"25\", \"26\", \"27\", \"28\", \"29\", \"30\", \"31\", \"32\", \"33\", \"34\", \"35\", \"38\", \"39\"], \"mode\": \"markers\", \"name\": \"precision_score_weighted\", \"stepped\": false, \"type\": \"scatter\", \"data\": [1.0, 1.0, 0.9746068863825769, 0.9516972237969602, 0.9840203728892067, 0.9672798603621894, 0.9982783410601495, 0.9691022291789886, 1.0, 0.9995083309951541, 1.0, 1.0, 1.0, 1.0, 1.0, 1.0, 1.0, 1.0, 1.0, 0.9990171881420963, 0.9981574650163537, 1.0, 1.0, 1.0, 1.0, 0.2683366279099366, 1.0, 1.0, 1.0, 1.0, 0.2683366279099366, 0.9996309869021447, 1.0, 0.9915304300489168, 1.0, 0.2683366279099366, 1.0, 1.0]}, {\"categories\": [\"0\", \"1\", \"2\", \"3\", \"4\", \"5\", \"6\", \"7\", \"8\", \"9\", \"10\", \"11\", \"12\", \"13\", \"14\", \"15\", \"16\", \"17\", \"18\", \"19\", \"20\", \"21\", \"22\", \"23\", \"24\", \"25\", \"26\", \"27\", \"28\", \"29\", \"30\", \"31\", \"32\", \"33\", \"34\", \"35\", \"38\", \"39\"], \"mode\": \"lines\", \"name\": \"precision_score_weighted_max\", \"stepped\": true, \"type\": \"scatter\", \"data\": [1.0, 1.0, 1.0, 1.0, 1.0, 1.0, 1.0, 1.0, 1.0, 1.0, 1.0, 1.0, 1.0, 1.0, 1.0, 1.0, 1.0, 1.0, 1.0, 1.0, 1.0, 1.0, 1.0, 1.0, 1.0, 1.0, 1.0, 1.0, 1.0, 1.0, 1.0, 1.0, 1.0, 1.0, 1.0, 1.0, 1.0, 1.0]}], \"average_precision_score_macro\": [{\"categories\": [\"0\", \"1\", \"2\", \"3\", \"4\", \"5\", \"6\", \"7\", \"8\", \"9\", \"10\", \"11\", \"12\", \"13\", \"14\", \"15\", \"16\", \"17\", \"18\", \"19\", \"20\", \"21\", \"22\", \"23\", \"24\", \"25\", \"26\", \"27\", \"28\", \"29\", \"30\", \"31\", \"32\", \"33\", \"34\", \"35\", \"38\", \"39\"], \"mode\": \"markers\", \"name\": \"average_precision_score_macro\", \"stepped\": false, \"type\": \"scatter\", \"data\": [1.0000000000000002, 1.0, 0.9983333466267199, 0.99229509433091, 0.9987729712463547, 0.9887445524414303, 0.9999598634855088, 0.9944640827492863, 1.0, 1.0, 1.0, 1.0, 1.0, 1.0, 1.0, 1.0, 1.0, 1.0, 1.0, 0.9999943452074849, 0.9999939700925982, 1.0, 1.0, 1.0, 1.0, 0.5, 1.0, 1.0, 1.0, 1.0, 0.5, 0.9999983586323017, 1.0, 0.999936961730104, 1.0, 0.5, 1.0, 1.0]}, {\"categories\": [\"0\", \"1\", \"2\", \"3\", \"4\", \"5\", \"6\", \"7\", \"8\", \"9\", \"10\", \"11\", \"12\", \"13\", \"14\", \"15\", \"16\", \"17\", \"18\", \"19\", \"20\", \"21\", \"22\", \"23\", \"24\", \"25\", \"26\", \"27\", \"28\", \"29\", \"30\", \"31\", \"32\", \"33\", \"34\", \"35\", \"38\", \"39\"], \"mode\": \"lines\", \"name\": \"average_precision_score_macro_max\", \"stepped\": true, \"type\": \"scatter\", \"data\": [1.0000000000000002, 1.0000000000000002, 1.0000000000000002, 1.0000000000000002, 1.0000000000000002, 1.0000000000000002, 1.0000000000000002, 1.0000000000000002, 1.0000000000000002, 1.0000000000000002, 1.0000000000000002, 1.0000000000000002, 1.0000000000000002, 1.0000000000000002, 1.0000000000000002, 1.0000000000000002, 1.0000000000000002, 1.0000000000000002, 1.0000000000000002, 1.0000000000000002, 1.0000000000000002, 1.0000000000000002, 1.0000000000000002, 1.0000000000000002, 1.0000000000000002, 1.0000000000000002, 1.0000000000000002, 1.0000000000000002, 1.0000000000000002, 1.0000000000000002, 1.0000000000000002, 1.0000000000000002, 1.0000000000000002, 1.0000000000000002, 1.0000000000000002, 1.0000000000000002, 1.0000000000000002, 1.0000000000000002]}], \"f1_score_macro\": [{\"categories\": [\"0\", \"1\", \"2\", \"3\", \"4\", \"5\", \"6\", \"7\", \"8\", \"9\", \"10\", \"11\", \"12\", \"13\", \"14\", \"15\", \"16\", \"17\", \"18\", \"19\", \"20\", \"21\", \"22\", \"23\", \"24\", \"25\", \"26\", \"27\", \"28\", \"29\", \"30\", \"31\", \"32\", \"33\", \"34\", \"35\", \"38\", \"39\"], \"mode\": \"markers\", \"name\": \"f1_score_macro\", \"stepped\": false, \"type\": \"scatter\", \"data\": [1.0, 1.0, 0.9739505906388791, 0.9494165550350747, 0.9838334664357977, 0.9653155733197831, 0.9982735364249931, 0.968912897842548, 1.0, 0.9995067478472371, 1.0, 1.0, 1.0, 1.0, 1.0, 1.0, 1.0, 1.0, 1.0, 0.9990136787691645, 0.9981498060056847, 1.0, 1.0, 1.0, 1.0, 0.3412140392316998, 1.0, 1.0, 1.0, 1.0, 0.3412140392316998, 0.9996301732897971, 1.0, 0.991364031903681, 1.0, 0.3412140392316998, 1.0, 1.0]}, {\"categories\": [\"0\", \"1\", \"2\", \"3\", \"4\", \"5\", \"6\", \"7\", \"8\", \"9\", \"10\", \"11\", \"12\", \"13\", \"14\", \"15\", \"16\", \"17\", \"18\", \"19\", \"20\", \"21\", \"22\", \"23\", \"24\", \"25\", \"26\", \"27\", \"28\", \"29\", \"30\", \"31\", \"32\", \"33\", \"34\", \"35\", \"38\", \"39\"], \"mode\": \"lines\", \"name\": \"f1_score_macro_max\", \"stepped\": true, \"type\": \"scatter\", \"data\": [1.0, 1.0, 1.0, 1.0, 1.0, 1.0, 1.0, 1.0, 1.0, 1.0, 1.0, 1.0, 1.0, 1.0, 1.0, 1.0, 1.0, 1.0, 1.0, 1.0, 1.0, 1.0, 1.0, 1.0, 1.0, 1.0, 1.0, 1.0, 1.0, 1.0, 1.0, 1.0, 1.0, 1.0, 1.0, 1.0, 1.0, 1.0]}], \"balanced_accuracy\": [{\"categories\": [\"0\", \"1\", \"2\", \"3\", \"4\", \"5\", \"6\", \"7\", \"8\", \"9\", \"10\", \"11\", \"12\", \"13\", \"14\", \"15\", \"16\", \"17\", \"18\", \"19\", \"20\", \"21\", \"22\", \"23\", \"24\", \"25\", \"26\", \"27\", \"28\", \"29\", \"30\", \"31\", \"32\", \"33\", \"34\", \"35\", \"38\", \"39\"], \"mode\": \"markers\", \"name\": \"balanced_accuracy\", \"stepped\": false, \"type\": \"scatter\", \"data\": [1.0, 1.0, 0.9734185913119778, 0.948394237947559, 0.9835031083805771, 0.964394354879048, 0.9982681844410859, 0.968613153372989, 1.0, 0.999487643407685, 1.0, 1.0, 1.0, 1.0, 1.0, 1.0, 1.0, 1.0, 1.0, 0.9989775935705274, 0.9980989475226053, 1.0, 1.0, 1.0, 1.0, 0.5, 1.0, 1.0, 1.0, 1.0, 0.5, 0.9996168859333423, 1.0, 0.9911051924739237, 1.0, 0.5, 1.0, 1.0]}, {\"categories\": [\"0\", \"1\", \"2\", \"3\", \"4\", \"5\", \"6\", \"7\", \"8\", \"9\", \"10\", \"11\", \"12\", \"13\", \"14\", \"15\", \"16\", \"17\", \"18\", \"19\", \"20\", \"21\", \"22\", \"23\", \"24\", \"25\", \"26\", \"27\", \"28\", \"29\", \"30\", \"31\", \"32\", \"33\", \"34\", \"35\", \"38\", \"39\"], \"mode\": \"lines\", \"name\": \"balanced_accuracy_max\", \"stepped\": true, \"type\": \"scatter\", \"data\": [1.0, 1.0, 1.0, 1.0, 1.0, 1.0, 1.0, 1.0, 1.0, 1.0, 1.0, 1.0, 1.0, 1.0, 1.0, 1.0, 1.0, 1.0, 1.0, 1.0, 1.0, 1.0, 1.0, 1.0, 1.0, 1.0, 1.0, 1.0, 1.0, 1.0, 1.0, 1.0, 1.0, 1.0, 1.0, 1.0, 1.0, 1.0]}], \"precision_score_micro\": [{\"categories\": [\"0\", \"1\", \"2\", \"3\", \"4\", \"5\", \"6\", \"7\", \"8\", \"9\", \"10\", \"11\", \"12\", \"13\", \"14\", \"15\", \"16\", \"17\", \"18\", \"19\", \"20\", \"21\", \"22\", \"23\", \"24\", \"25\", \"26\", \"27\", \"28\", \"29\", \"30\", \"31\", \"32\", \"33\", \"34\", \"35\", \"38\", \"39\"], \"mode\": \"markers\", \"name\": \"precision_score_micro\", \"stepped\": false, \"type\": \"scatter\", \"data\": [1.0, 1.0, 0.974027572624323, 0.9496553421959626, 0.9838749384539636, 0.9655342195962581, 0.998276710979813, 0.9689807976366321, 1.0, 0.9995076317085179, 1.0, 1.0, 1.0, 1.0, 1.0, 1.0, 1.0, 1.0, 1.0, 0.9990152634170358, 0.9981536189069424, 1.0, 1.0, 1.0, 1.0, 0.5179714426390941, 1.0, 1.0, 1.0, 1.0, 0.5179714426390941, 0.9996307237813885, 1.0, 0.9913835548990645, 1.0, 0.5179714426390941, 1.0, 1.0]}, {\"categories\": [\"0\", \"1\", \"2\", \"3\", \"4\", \"5\", \"6\", \"7\", \"8\", \"9\", \"10\", \"11\", \"12\", \"13\", \"14\", \"15\", \"16\", \"17\", \"18\", \"19\", \"20\", \"21\", \"22\", \"23\", \"24\", \"25\", \"26\", \"27\", \"28\", \"29\", \"30\", \"31\", \"32\", \"33\", \"34\", \"35\", \"38\", \"39\"], \"mode\": \"lines\", \"name\": \"precision_score_micro_max\", \"stepped\": true, \"type\": \"scatter\", \"data\": [1.0, 1.0, 1.0, 1.0, 1.0, 1.0, 1.0, 1.0, 1.0, 1.0, 1.0, 1.0, 1.0, 1.0, 1.0, 1.0, 1.0, 1.0, 1.0, 1.0, 1.0, 1.0, 1.0, 1.0, 1.0, 1.0, 1.0, 1.0, 1.0, 1.0, 1.0, 1.0, 1.0, 1.0, 1.0, 1.0, 1.0, 1.0]}], \"weighted_accuracy\": [{\"categories\": [\"0\", \"1\", \"2\", \"3\", \"4\", \"5\", \"6\", \"7\", \"8\", \"9\", \"10\", \"11\", \"12\", \"13\", \"14\", \"15\", \"16\", \"17\", \"18\", \"19\", \"20\", \"21\", \"22\", \"23\", \"24\", \"25\", \"26\", \"27\", \"28\", \"29\", \"30\", \"31\", \"32\", \"33\", \"34\", \"35\", \"38\", \"39\"], \"mode\": \"markers\", \"name\": \"weighted_accuracy\", \"stepped\": false, \"type\": \"scatter\", \"data\": [1.0, 1.0, 0.9746334849887653, 0.9509120611640695, 0.9842452000720211, 0.9666682106743844, 0.9982852363895774, 0.9693467385548717, 1.0, 0.999527532033507, 1.0, 1.0, 1.0, 1.0, 1.0, 1.0, 1.0, 1.0, 1.0, 0.9990527872152745, 0.9982080774611731, 1.0, 1.0, 1.0, 1.0, 0.5358771538831303, 1.0, 1.0, 1.0, 1.0, 0.5358771538831303, 0.9996445105992606, 1.0, 0.9916607579273532, 1.0, 0.5358771538831303, 1.0, 1.0]}, {\"categories\": [\"0\", \"1\", \"2\", \"3\", \"4\", \"5\", \"6\", \"7\", \"8\", \"9\", \"10\", \"11\", \"12\", \"13\", \"14\", \"15\", \"16\", \"17\", \"18\", \"19\", \"20\", \"21\", \"22\", \"23\", \"24\", \"25\", \"26\", \"27\", \"28\", \"29\", \"30\", \"31\", \"32\", \"33\", \"34\", \"35\", \"38\", \"39\"], \"mode\": \"lines\", \"name\": \"weighted_accuracy_max\", \"stepped\": true, \"type\": \"scatter\", \"data\": [1.0, 1.0, 1.0, 1.0, 1.0, 1.0, 1.0, 1.0, 1.0, 1.0, 1.0, 1.0, 1.0, 1.0, 1.0, 1.0, 1.0, 1.0, 1.0, 1.0, 1.0, 1.0, 1.0, 1.0, 1.0, 1.0, 1.0, 1.0, 1.0, 1.0, 1.0, 1.0, 1.0, 1.0, 1.0, 1.0, 1.0, 1.0]}], \"AUC_macro\": [{\"categories\": [\"0\", \"1\", \"2\", \"3\", \"4\", \"5\", \"6\", \"7\", \"8\", \"9\", \"10\", \"11\", \"12\", \"13\", \"14\", \"15\", \"16\", \"17\", \"18\", \"19\", \"20\", \"21\", \"22\", \"23\", \"24\", \"25\", \"26\", \"27\", \"28\", \"29\", \"30\", \"31\", \"32\", \"33\", \"34\", \"35\", \"38\", \"39\"], \"mode\": \"markers\", \"name\": \"AUC_macro\", \"stepped\": false, \"type\": \"scatter\", \"data\": [1.0, 1.0, 0.9982922833215397, 0.9919893687696731, 0.9987513256182431, 0.988392726156448, 0.9999595854913533, 0.9942584727750291, 1.0, 1.0, 1.0, 1.0, 1.0, 1.0, 1.0, 1.0, 1.0, 1.0, 1.0, 0.9999943507834267, 0.9999939859813702, 1.0, 1.0, 1.0, 1.0, 0.5, 1.0, 1.0, 1.0, 1.0, 0.5, 0.9999983610295513, 1.0, 0.9999375457497758, 1.0, 0.5, 1.0, 1.0]}, {\"categories\": [\"0\", \"1\", \"2\", \"3\", \"4\", \"5\", \"6\", \"7\", \"8\", \"9\", \"10\", \"11\", \"12\", \"13\", \"14\", \"15\", \"16\", \"17\", \"18\", \"19\", \"20\", \"21\", \"22\", \"23\", \"24\", \"25\", \"26\", \"27\", \"28\", \"29\", \"30\", \"31\", \"32\", \"33\", \"34\", \"35\", \"38\", \"39\"], \"mode\": \"lines\", \"name\": \"AUC_macro_max\", \"stepped\": true, \"type\": \"scatter\", \"data\": [1.0, 1.0, 1.0, 1.0, 1.0, 1.0, 1.0, 1.0, 1.0, 1.0, 1.0, 1.0, 1.0, 1.0, 1.0, 1.0, 1.0, 1.0, 1.0, 1.0, 1.0, 1.0, 1.0, 1.0, 1.0, 1.0, 1.0, 1.0, 1.0, 1.0, 1.0, 1.0, 1.0, 1.0, 1.0, 1.0, 1.0, 1.0]}], \"f1_score_micro\": [{\"categories\": [\"0\", \"1\", \"2\", \"3\", \"4\", \"5\", \"6\", \"7\", \"8\", \"9\", \"10\", \"11\", \"12\", \"13\", \"14\", \"15\", \"16\", \"17\", \"18\", \"19\", \"20\", \"21\", \"22\", \"23\", \"24\", \"25\", \"26\", \"27\", \"28\", \"29\", \"30\", \"31\", \"32\", \"33\", \"34\", \"35\", \"38\", \"39\"], \"mode\": \"markers\", \"name\": \"f1_score_micro\", \"stepped\": false, \"type\": \"scatter\", \"data\": [1.0, 1.0, 0.974027572624323, 0.9496553421959626, 0.9838749384539636, 0.9655342195962581, 0.998276710979813, 0.9689807976366321, 1.0, 0.9995076317085179, 1.0, 1.0, 1.0, 1.0, 1.0, 1.0, 1.0, 1.0, 1.0, 0.9990152634170358, 0.9981536189069424, 1.0, 1.0, 1.0, 1.0, 0.5179714426390941, 1.0, 1.0, 1.0, 1.0, 0.5179714426390941, 0.9996307237813885, 1.0, 0.9913835548990645, 1.0, 0.5179714426390941, 1.0, 1.0]}, {\"categories\": [\"0\", \"1\", \"2\", \"3\", \"4\", \"5\", \"6\", \"7\", \"8\", \"9\", \"10\", \"11\", \"12\", \"13\", \"14\", \"15\", \"16\", \"17\", \"18\", \"19\", \"20\", \"21\", \"22\", \"23\", \"24\", \"25\", \"26\", \"27\", \"28\", \"29\", \"30\", \"31\", \"32\", \"33\", \"34\", \"35\", \"38\", \"39\"], \"mode\": \"lines\", \"name\": \"f1_score_micro_max\", \"stepped\": true, \"type\": \"scatter\", \"data\": [1.0, 1.0, 1.0, 1.0, 1.0, 1.0, 1.0, 1.0, 1.0, 1.0, 1.0, 1.0, 1.0, 1.0, 1.0, 1.0, 1.0, 1.0, 1.0, 1.0, 1.0, 1.0, 1.0, 1.0, 1.0, 1.0, 1.0, 1.0, 1.0, 1.0, 1.0, 1.0, 1.0, 1.0, 1.0, 1.0, 1.0, 1.0]}], \"recall_score_weighted\": [{\"categories\": [\"0\", \"1\", \"2\", \"3\", \"4\", \"5\", \"6\", \"7\", \"8\", \"9\", \"10\", \"11\", \"12\", \"13\", \"14\", \"15\", \"16\", \"17\", \"18\", \"19\", \"20\", \"21\", \"22\", \"23\", \"24\", \"25\", \"26\", \"27\", \"28\", \"29\", \"30\", \"31\", \"32\", \"33\", \"34\", \"35\", \"38\", \"39\"], \"mode\": \"markers\", \"name\": \"recall_score_weighted\", \"stepped\": false, \"type\": \"scatter\", \"data\": [1.0, 1.0, 0.974027572624323, 0.9496553421959626, 0.9838749384539636, 0.9655342195962581, 0.998276710979813, 0.9689807976366321, 1.0, 0.9995076317085179, 1.0, 1.0, 1.0, 1.0, 1.0, 1.0, 1.0, 1.0, 1.0, 0.9990152634170358, 0.9981536189069424, 1.0, 1.0, 1.0, 1.0, 0.5179714426390941, 1.0, 1.0, 1.0, 1.0, 0.5179714426390941, 0.9996307237813885, 1.0, 0.9913835548990645, 1.0, 0.5179714426390941, 1.0, 1.0]}, {\"categories\": [\"0\", \"1\", \"2\", \"3\", \"4\", \"5\", \"6\", \"7\", \"8\", \"9\", \"10\", \"11\", \"12\", \"13\", \"14\", \"15\", \"16\", \"17\", \"18\", \"19\", \"20\", \"21\", \"22\", \"23\", \"24\", \"25\", \"26\", \"27\", \"28\", \"29\", \"30\", \"31\", \"32\", \"33\", \"34\", \"35\", \"38\", \"39\"], \"mode\": \"lines\", \"name\": \"recall_score_weighted_max\", \"stepped\": true, \"type\": \"scatter\", \"data\": [1.0, 1.0, 1.0, 1.0, 1.0, 1.0, 1.0, 1.0, 1.0, 1.0, 1.0, 1.0, 1.0, 1.0, 1.0, 1.0, 1.0, 1.0, 1.0, 1.0, 1.0, 1.0, 1.0, 1.0, 1.0, 1.0, 1.0, 1.0, 1.0, 1.0, 1.0, 1.0, 1.0, 1.0, 1.0, 1.0, 1.0, 1.0]}], \"AUC_micro\": [{\"categories\": [\"0\", \"1\", \"2\", \"3\", \"4\", \"5\", \"6\", \"7\", \"8\", \"9\", \"10\", \"11\", \"12\", \"13\", \"14\", \"15\", \"16\", \"17\", \"18\", \"19\", \"20\", \"21\", \"22\", \"23\", \"24\", \"25\", \"26\", \"27\", \"28\", \"29\", \"30\", \"31\", \"32\", \"33\", \"34\", \"35\", \"38\", \"39\"], \"mode\": \"markers\", \"name\": \"AUC_micro\", \"stepped\": false, \"type\": \"scatter\", \"data\": [1.0, 1.0, 0.997489839903941, 0.9911037795266427, 0.9981596644186453, 0.98965112942886, 0.9999479085984087, 0.9942934915021016, 1.0, 0.9999994545402974, 1.0, 1.0, 1.0, 1.0, 1.0, 1.0, 1.0, 1.0, 1.0, 0.9999870907870402, 0.9999932272086935, 1.0, 1.0, 1.0, 1.0, 0.5179714426390941, 1.0, 1.0, 1.0, 1.0, 0.5179714426390941, 0.9999984090758676, 1.0, 0.999859089576847, 1.0, 0.5179714426390941, 1.0, 1.0]}, {\"categories\": [\"0\", \"1\", \"2\", \"3\", \"4\", \"5\", \"6\", \"7\", \"8\", \"9\", \"10\", \"11\", \"12\", \"13\", \"14\", \"15\", \"16\", \"17\", \"18\", \"19\", \"20\", \"21\", \"22\", \"23\", \"24\", \"25\", \"26\", \"27\", \"28\", \"29\", \"30\", \"31\", \"32\", \"33\", \"34\", \"35\", \"38\", \"39\"], \"mode\": \"lines\", \"name\": \"AUC_micro_max\", \"stepped\": true, \"type\": \"scatter\", \"data\": [1.0, 1.0, 1.0, 1.0, 1.0, 1.0, 1.0, 1.0, 1.0, 1.0, 1.0, 1.0, 1.0, 1.0, 1.0, 1.0, 1.0, 1.0, 1.0, 1.0, 1.0, 1.0, 1.0, 1.0, 1.0, 1.0, 1.0, 1.0, 1.0, 1.0, 1.0, 1.0, 1.0, 1.0, 1.0, 1.0, 1.0, 1.0]}], \"recall_score_macro\": [{\"categories\": [\"0\", \"1\", \"2\", \"3\", \"4\", \"5\", \"6\", \"7\", \"8\", \"9\", \"10\", \"11\", \"12\", \"13\", \"14\", \"15\", \"16\", \"17\", \"18\", \"19\", \"20\", \"21\", \"22\", \"23\", \"24\", \"25\", \"26\", \"27\", \"28\", \"29\", \"30\", \"31\", \"32\", \"33\", \"34\", \"35\", \"38\", \"39\"], \"mode\": \"markers\", \"name\": \"recall_score_macro\", \"stepped\": false, \"type\": \"scatter\", \"data\": [1.0, 1.0, 0.9734185913119778, 0.948394237947559, 0.9835031083805771, 0.964394354879048, 0.9982681844410859, 0.968613153372989, 1.0, 0.999487643407685, 1.0, 1.0, 1.0, 1.0, 1.0, 1.0, 1.0, 1.0, 1.0, 0.9989775935705274, 0.9980989475226053, 1.0, 1.0, 1.0, 1.0, 0.5, 1.0, 1.0, 1.0, 1.0, 0.5, 0.9996168859333423, 1.0, 0.9911051924739237, 1.0, 0.5, 1.0, 1.0]}, {\"categories\": [\"0\", \"1\", \"2\", \"3\", \"4\", \"5\", \"6\", \"7\", \"8\", \"9\", \"10\", \"11\", \"12\", \"13\", \"14\", \"15\", \"16\", \"17\", \"18\", \"19\", \"20\", \"21\", \"22\", \"23\", \"24\", \"25\", \"26\", \"27\", \"28\", \"29\", \"30\", \"31\", \"32\", \"33\", \"34\", \"35\", \"38\", \"39\"], \"mode\": \"lines\", \"name\": \"recall_score_macro_max\", \"stepped\": true, \"type\": \"scatter\", \"data\": [1.0, 1.0, 1.0, 1.0, 1.0, 1.0, 1.0, 1.0, 1.0, 1.0, 1.0, 1.0, 1.0, 1.0, 1.0, 1.0, 1.0, 1.0, 1.0, 1.0, 1.0, 1.0, 1.0, 1.0, 1.0, 1.0, 1.0, 1.0, 1.0, 1.0, 1.0, 1.0, 1.0, 1.0, 1.0, 1.0, 1.0, 1.0]}], \"f1_score_weighted\": [{\"categories\": [\"0\", \"1\", \"2\", \"3\", \"4\", \"5\", \"6\", \"7\", \"8\", \"9\", \"10\", \"11\", \"12\", \"13\", \"14\", \"15\", \"16\", \"17\", \"18\", \"19\", \"20\", \"21\", \"22\", \"23\", \"24\", \"25\", \"26\", \"27\", \"28\", \"29\", \"30\", \"31\", \"32\", \"33\", \"34\", \"35\", \"38\", \"39\"], \"mode\": \"markers\", \"name\": \"f1_score_weighted\", \"stepped\": false, \"type\": \"scatter\", \"data\": [1.0, 1.0, 0.9740038972431049, 0.9495387329660899, 0.983867120930655, 0.9654313980203083, 0.9982767081201045, 0.9689684711172962, 1.0, 0.9995076173077764, 1.0, 1.0, 1.0, 1.0, 1.0, 1.0, 1.0, 1.0, 1.0, 0.9990152250662457, 0.9981534971088108, 1.0, 1.0, 1.0, 1.0, 0.3535148068147886, 1.0, 1.0, 1.0, 1.0, 0.3535148068147886, 0.9996307188204518, 1.0, 0.991379857800855, 1.0, 0.3535148068147886, 1.0, 1.0]}, {\"categories\": [\"0\", \"1\", \"2\", \"3\", \"4\", \"5\", \"6\", \"7\", \"8\", \"9\", \"10\", \"11\", \"12\", \"13\", \"14\", \"15\", \"16\", \"17\", \"18\", \"19\", \"20\", \"21\", \"22\", \"23\", \"24\", \"25\", \"26\", \"27\", \"28\", \"29\", \"30\", \"31\", \"32\", \"33\", \"34\", \"35\", \"38\", \"39\"], \"mode\": \"lines\", \"name\": \"f1_score_weighted_max\", \"stepped\": true, \"type\": \"scatter\", \"data\": [1.0, 1.0, 1.0, 1.0, 1.0, 1.0, 1.0, 1.0, 1.0, 1.0, 1.0, 1.0, 1.0, 1.0, 1.0, 1.0, 1.0, 1.0, 1.0, 1.0, 1.0, 1.0, 1.0, 1.0, 1.0, 1.0, 1.0, 1.0, 1.0, 1.0, 1.0, 1.0, 1.0, 1.0, 1.0, 1.0, 1.0, 1.0]}], \"matthews_correlation\": [{\"categories\": [\"0\", \"1\", \"2\", \"3\", \"4\", \"5\", \"6\", \"7\", \"8\", \"9\", \"10\", \"11\", \"12\", \"13\", \"14\", \"15\", \"16\", \"17\", \"18\", \"19\", \"20\", \"21\", \"22\", \"23\", \"24\", \"25\", \"26\", \"27\", \"28\", \"29\", \"30\", \"31\", \"32\", \"33\", \"34\", \"35\", \"38\", \"39\"], \"mode\": \"markers\", \"name\": \"matthews_correlation\", \"stepped\": false, \"type\": \"scatter\", \"data\": [1.0, 1.0, 0.948528960715851, 0.901108536839578, 0.9678283089512711, 0.9325833029834675, 0.996548710296922, 0.9379722133955517, 1.0, 0.9990142250479787, 1.0, 1.0, 1.0, 1.0, 1.0, 1.0, 1.0, 1.0, 1.0, 0.9980293621437953, 0.9963037082355556, 1.0, 1.0, 1.0, 1.0, 0.0, 1.0, 1.0, 1.0, 1.0, 0.0, 0.9992606200222066, 1.0, 0.9828825505897439, 1.0, 0.0, 1.0, 1.0]}, {\"categories\": [\"0\", \"1\", \"2\", \"3\", \"4\", \"5\", \"6\", \"7\", \"8\", \"9\", \"10\", \"11\", \"12\", \"13\", \"14\", \"15\", \"16\", \"17\", \"18\", \"19\", \"20\", \"21\", \"22\", \"23\", \"24\", \"25\", \"26\", \"27\", \"28\", \"29\", \"30\", \"31\", \"32\", \"33\", \"34\", \"35\", \"38\", \"39\"], \"mode\": \"lines\", \"name\": \"matthews_correlation_max\", \"stepped\": true, \"type\": \"scatter\", \"data\": [1.0, 1.0, 1.0, 1.0, 1.0, 1.0, 1.0, 1.0, 1.0, 1.0, 1.0, 1.0, 1.0, 1.0, 1.0, 1.0, 1.0, 1.0, 1.0, 1.0, 1.0, 1.0, 1.0, 1.0, 1.0, 1.0, 1.0, 1.0, 1.0, 1.0, 1.0, 1.0, 1.0, 1.0, 1.0, 1.0, 1.0, 1.0]}], \"norm_macro_recall\": [{\"categories\": [\"0\", \"1\", \"2\", \"3\", \"4\", \"5\", \"6\", \"7\", \"8\", \"9\", \"10\", \"11\", \"12\", \"13\", \"14\", \"15\", \"16\", \"17\", \"18\", \"19\", \"20\", \"21\", \"22\", \"23\", \"24\", \"25\", \"26\", \"27\", \"28\", \"29\", \"30\", \"31\", \"32\", \"33\", \"34\", \"35\", \"38\", \"39\"], \"mode\": \"markers\", \"name\": \"norm_macro_recall\", \"stepped\": false, \"type\": \"scatter\", \"data\": [1.0, 1.0, 0.9468371826239558, 0.896788475895118, 0.9670062167611541, 0.9287887097580961, 0.9965363688821718, 0.9372263067459782, 1.0, 0.9989752868153702, 1.0, 1.0, 1.0, 1.0, 1.0, 1.0, 1.0, 1.0, 1.0, 0.9979551871410548, 0.9961978950452105, 1.0, 1.0, 1.0, 1.0, 0.0, 1.0, 1.0, 1.0, 1.0, 0.0, 0.9992337718666849, 1.0, 0.9822103849478475, 1.0, 0.0, 1.0, 1.0]}, {\"categories\": [\"0\", \"1\", \"2\", \"3\", \"4\", \"5\", \"6\", \"7\", \"8\", \"9\", \"10\", \"11\", \"12\", \"13\", \"14\", \"15\", \"16\", \"17\", \"18\", \"19\", \"20\", \"21\", \"22\", \"23\", \"24\", \"25\", \"26\", \"27\", \"28\", \"29\", \"30\", \"31\", \"32\", \"33\", \"34\", \"35\", \"38\", \"39\"], \"mode\": \"lines\", \"name\": \"norm_macro_recall_max\", \"stepped\": true, \"type\": \"scatter\", \"data\": [1.0, 1.0, 1.0, 1.0, 1.0, 1.0, 1.0, 1.0, 1.0, 1.0, 1.0, 1.0, 1.0, 1.0, 1.0, 1.0, 1.0, 1.0, 1.0, 1.0, 1.0, 1.0, 1.0, 1.0, 1.0, 1.0, 1.0, 1.0, 1.0, 1.0, 1.0, 1.0, 1.0, 1.0, 1.0, 1.0, 1.0, 1.0]}], \"recall_score_micro\": [{\"categories\": [\"0\", \"1\", \"2\", \"3\", \"4\", \"5\", \"6\", \"7\", \"8\", \"9\", \"10\", \"11\", \"12\", \"13\", \"14\", \"15\", \"16\", \"17\", \"18\", \"19\", \"20\", \"21\", \"22\", \"23\", \"24\", \"25\", \"26\", \"27\", \"28\", \"29\", \"30\", \"31\", \"32\", \"33\", \"34\", \"35\", \"38\", \"39\"], \"mode\": \"markers\", \"name\": \"recall_score_micro\", \"stepped\": false, \"type\": \"scatter\", \"data\": [1.0, 1.0, 0.974027572624323, 0.9496553421959626, 0.9838749384539636, 0.9655342195962581, 0.998276710979813, 0.9689807976366321, 1.0, 0.9995076317085179, 1.0, 1.0, 1.0, 1.0, 1.0, 1.0, 1.0, 1.0, 1.0, 0.9990152634170358, 0.9981536189069424, 1.0, 1.0, 1.0, 1.0, 0.5179714426390941, 1.0, 1.0, 1.0, 1.0, 0.5179714426390941, 0.9996307237813885, 1.0, 0.9913835548990645, 1.0, 0.5179714426390941, 1.0, 1.0]}, {\"categories\": [\"0\", \"1\", \"2\", \"3\", \"4\", \"5\", \"6\", \"7\", \"8\", \"9\", \"10\", \"11\", \"12\", \"13\", \"14\", \"15\", \"16\", \"17\", \"18\", \"19\", \"20\", \"21\", \"22\", \"23\", \"24\", \"25\", \"26\", \"27\", \"28\", \"29\", \"30\", \"31\", \"32\", \"33\", \"34\", \"35\", \"38\", \"39\"], \"mode\": \"lines\", \"name\": \"recall_score_micro_max\", \"stepped\": true, \"type\": \"scatter\", \"data\": [1.0, 1.0, 1.0, 1.0, 1.0, 1.0, 1.0, 1.0, 1.0, 1.0, 1.0, 1.0, 1.0, 1.0, 1.0, 1.0, 1.0, 1.0, 1.0, 1.0, 1.0, 1.0, 1.0, 1.0, 1.0, 1.0, 1.0, 1.0, 1.0, 1.0, 1.0, 1.0, 1.0, 1.0, 1.0, 1.0, 1.0, 1.0]}]}, \"metricName\": null, \"primaryMetricName\": \"accuracy\", \"showLegend\": false}, \"run_metrics\": [{\"name\": \"experiment_status\", \"run_id\": \"AutoML_539e38c3-d87c-4ecd-83df-c4fa3ed6ef6b\", \"categories\": [0, 1, 2, 3, 4, 5, 6, 7, 8, 9, 10, 11, 12, 13], \"series\": [{\"data\": [\"DatasetEvaluation\", \"FeaturesGeneration\", \"DatasetFeaturization\", \"DatasetFeaturizationCompleted\", \"DatasetCrossValidationSplit\", \"ModelSelection\", \"BestRunExplainModel\", \"ModelExplanationDataSetSetup\", \"PickSurrogateModel\", \"EngineeredFeatureExplanations\", \"EngineeredFeatureExplanations\", \"RawFeaturesExplanations\", \"RawFeaturesExplanations\", \"BestRunExplainModel\"]}]}, {\"name\": \"experiment_status_description\", \"run_id\": \"AutoML_539e38c3-d87c-4ecd-83df-c4fa3ed6ef6b\", \"categories\": [0, 1, 2, 3, 4, 5, 6, 7, 8, 9, 10, 11, 12, 13], \"series\": [{\"data\": [\"Gathering dataset statistics.\", \"Generating features for the dataset.\", \"Beginning to fit featurizers and featurize the dataset.\", \"Completed fit featurizers and featurizing the dataset.\", \"Generating individually featurized CV splits.\", \"Beginning model selection.\", \"Best run model explanations started\", \"Model explanations data setup completed\", \"Choosing LightGBM as the surrogate model for explanations\", \"Computation of engineered features started\", \"Computation of engineered features completed\", \"Computation of raw features started\", \"Computation of raw features completed\", \"Best run model explanations completed\"]}]}], \"run_logs\": \"\\nRun is completed.\", \"graph\": {}, \"widget_settings\": {\"childWidgetDisplay\": \"popup\", \"send_telemetry\": false, \"log_level\": \"INFO\", \"sdk_version\": \"1.30.0\"}, \"loading\": false}"
     },
     "metadata": {},
     "output_type": "display_data"
    }
   ],
   "source": [
    "RunDetails(automl_run).show()"
   ]
  },
  {
   "cell_type": "markdown",
   "metadata": {},
   "source": [
    "## Best Model"
   ]
  },
  {
   "cell_type": "code",
   "execution_count": null,
   "metadata": {
    "collapsed": false,
    "gather": {
     "logged": 1598431425670
    },
    "jupyter": {
     "outputs_hidden": false,
     "source_hidden": false
    },
    "nteract": {
     "transient": {
      "deleting": false
     }
    }
   },
   "outputs": [],
   "source": [
    "best_run, fitted_model = automl_run.get_output()"
   ]
  },
  {
   "cell_type": "code",
   "execution_count": 23,
   "metadata": {},
   "outputs": [
    {
     "data": {
      "text/html": [
       "<table style=\"width:100%\"><tr><th>Experiment</th><th>Id</th><th>Type</th><th>Status</th><th>Details Page</th><th>Docs Page</th></tr><tr><td>automl-exp</td><td>AutoML_539e38c3-d87c-4ecd-83df-c4fa3ed6ef6b_0</td><td>azureml.scriptrun</td><td>Completed</td><td><a href=\"https://ml.azure.com/runs/AutoML_539e38c3-d87c-4ecd-83df-c4fa3ed6ef6b_0?wsid=/subscriptions/aa7cf8e8-d23f-4bce-a7b9-1f0b4e0ac8ee/resourcegroups/aml-quickstarts-149637/workspaces/quick-starts-ws-149637&amp;tid=660b3398-b80e-49d2-bc5b-ac1dc93b5254\" target=\"_blank\" rel=\"noopener\">Link to Azure Machine Learning studio</a></td><td><a href=\"https://docs.microsoft.com/en-us/python/api/azureml-core/azureml.core.run.Run?view=azure-ml-py\" target=\"_blank\" rel=\"noopener\">Link to Documentation</a></td></tr></table>"
      ],
      "text/plain": [
       "Run(Experiment: automl-exp,\n",
       "Id: AutoML_539e38c3-d87c-4ecd-83df-c4fa3ed6ef6b_0,\n",
       "Type: azureml.scriptrun,\n",
       "Status: Completed)"
      ]
     },
     "execution_count": 23,
     "metadata": {},
     "output_type": "execute_result"
    }
   ],
   "source": [
    "best_run"
   ]
  },
  {
   "cell_type": "markdown",
   "metadata": {},
   "source": [
    "Below are all the properties of the best model. It is a *LightGBM* algorithm with *MaxAbsScaler* for the processing. *min_data_in_leaf* is the only hyperparameter that has been changed from its default value to 20."
   ]
  },
  {
   "cell_type": "code",
   "execution_count": 22,
   "metadata": {},
   "outputs": [
    {
     "data": {
      "text/plain": [
       "{'runTemplate': 'automl_child',\n",
       " 'pipeline_id': '5dfac790c5c209f98a1da2dc1c7fb76f0397324f',\n",
       " 'pipeline_spec': '{\"objects\":[{\"spec_class\":\"preproc\",\"class_name\":\"MaxAbsScaler\",\"module\":\"sklearn.preprocessing\",\"param_args\":[],\"param_kwargs\":{},\"prepared_kwargs\":{}},{\"spec_class\":\"sklearn\",\"class_name\":\"LightGBMClassifier\",\"module\":\"automl.client.core.common.model_wrappers\",\"param_args\":[],\"param_kwargs\":{\"min_data_in_leaf\":20},\"prepared_kwargs\":{}}],\"pipeline_id\":\"5dfac790c5c209f98a1da2dc1c7fb76f0397324f\",\"module\":\"sklearn.pipeline\",\"class_name\":\"Pipeline\"}',\n",
       " 'training_percent': '100',\n",
       " 'predicted_cost': None,\n",
       " 'iteration': '0',\n",
       " '_aml_system_scenario_identification': 'Remote.Child',\n",
       " '_azureml.ComputeTargetType': 'amlcompute',\n",
       " 'ContentSnapshotId': '2aa611bc-8220-4069-8e8f-cbe3f1cf1fe9',\n",
       " 'ProcessInfoFile': 'azureml-logs/process_info.json',\n",
       " 'ProcessStatusFile': 'azureml-logs/process_status.json',\n",
       " 'run_preprocessor': 'MaxAbsScaler',\n",
       " 'run_algorithm': 'LightGBM',\n",
       " 'model_output_path': 'outputs/model.pkl',\n",
       " 'conda_env_data_location': 'aml://artifact/ExperimentRun/dcid.AutoML_539e38c3-d87c-4ecd-83df-c4fa3ed6ef6b_0/outputs/conda_env_v_1_0_0.yml',\n",
       " 'model_data_location': 'aml://artifact/ExperimentRun/dcid.AutoML_539e38c3-d87c-4ecd-83df-c4fa3ed6ef6b_0/outputs/model.pkl',\n",
       " 'model_size_on_disk': '355374',\n",
       " 'scoring_data_location': 'aml://artifact/ExperimentRun/dcid.AutoML_539e38c3-d87c-4ecd-83df-c4fa3ed6ef6b_0/outputs/scoring_file_v_1_0_0.py',\n",
       " 'scoring_data_location_v2': 'aml://artifact/ExperimentRun/dcid.AutoML_539e38c3-d87c-4ecd-83df-c4fa3ed6ef6b_0/outputs/scoring_file_v_2_0_0.py',\n",
       " 'model_exp_support': 'True',\n",
       " 'pipeline_graph_version': '1.0.0',\n",
       " 'model_name': 'AutoML539e38c3d0',\n",
       " 'score': '1.0',\n",
       " 'score_table': 'NaN',\n",
       " 'run_properties': 'copy=True',\n",
       " 'pipeline_script': '{\"objects\":[{\"spec_class\":\"preproc\",\"class_name\":\"MaxAbsScaler\",\"module\":\"sklearn.preprocessing\",\"param_args\":[],\"param_kwargs\":{},\"prepared_kwargs\":{}},{\"spec_class\":\"sklearn\",\"class_name\":\"LightGBMClassifier\",\"module\":\"automl.client.core.common.model_wrappers\",\"param_args\":[],\"param_kwargs\":{\"min_data_in_leaf\":20},\"prepared_kwargs\":{}}],\"pipeline_id\":\"5dfac790c5c209f98a1da2dc1c7fb76f0397324f\",\"module\":\"sklearn.pipeline\",\"class_name\":\"Pipeline\"}',\n",
       " 'training_type': 'MeanCrossValidation',\n",
       " 'fit_time': '0.167662',\n",
       " 'goal': 'accuracy_max',\n",
       " 'primary_metric': 'accuracy',\n",
       " 'errors': '{}',\n",
       " 'onnx_model_resource': '{}',\n",
       " 'dependencies_versions': '{\"azureml-train-automl-runtime\": \"1.31.0\", \"azureml-train-automl-client\": \"1.31.0\", \"azureml-telemetry\": \"1.31.0\", \"azureml-pipeline-core\": \"1.31.0\", \"azureml-model-management-sdk\": \"1.0.1b6.post1\", \"azureml-mlflow\": \"1.31.0\", \"azureml-interpret\": \"1.31.0\", \"azureml-defaults\": \"1.31.0\", \"azureml-dataset-runtime\": \"1.31.0\", \"azureml-dataprep\": \"2.18.0\", \"azureml-dataprep-rslex\": \"1.16.0\", \"azureml-dataprep-native\": \"36.0.0\", \"azureml-core\": \"1.31.0\", \"azureml-automl-runtime\": \"1.31.0\", \"azureml-automl-core\": \"1.31.0\"}',\n",
       " 'num_cores': '4',\n",
       " 'num_logical_cores': '4',\n",
       " 'peak_memory_usage': '511224',\n",
       " 'vm_configuration': 'Intel(R) Xeon(R) CPU E5-2673 v4 @ 2.30GHz',\n",
       " 'core_hours': '0.0005653647222222222',\n",
       " 'feature_skus': 'automatedml_sdk_guardrails'}"
      ]
     },
     "execution_count": 22,
     "metadata": {},
     "output_type": "execute_result"
    }
   ],
   "source": [
    "best_run.get_details()['properties']"
   ]
  },
  {
   "cell_type": "markdown",
   "metadata": {},
   "source": [
    "### Save the model"
   ]
  },
  {
   "cell_type": "code",
   "execution_count": 13,
   "metadata": {
    "collapsed": false,
    "gather": {
     "logged": 1598431426111
    },
    "jupyter": {
     "outputs_hidden": false,
     "source_hidden": false
    },
    "nteract": {
     "transient": {
      "deleting": false
     }
    }
   },
   "outputs": [
    {
     "data": {
      "text/plain": [
       "['models/auto_ml.pkl']"
      ]
     },
     "execution_count": 13,
     "metadata": {},
     "output_type": "execute_result"
    }
   ],
   "source": [
    "os.makedirs('models', exist_ok=True)\n",
    "joblib.dump(fitted_model, 'models/auto_ml.pkl')"
   ]
  },
  {
   "cell_type": "markdown",
   "metadata": {},
   "source": [
    "It is worth noting that when looking at the *Data guardrails* of the AutoML experiment on Azure ML Studio, it failed to find and remove the column *veil-type* that has one unique value"
   ]
  },
  {
   "cell_type": "markdown",
   "metadata": {},
   "source": [
    "## Model Deployment\n",
    "Since AutoML and Hyperdrive give the same performance, we chose to deploy the hyperdrive model."
   ]
  },
  {
   "cell_type": "markdown",
   "metadata": {},
   "source": [
    "## Cleaning resources"
   ]
  },
  {
   "cell_type": "code",
   "execution_count": null,
   "metadata": {},
   "outputs": [],
   "source": [
    "compute_target.delete()"
   ]
  }
 ],
 "metadata": {
  "kernel_info": {
   "name": "python3"
  },
  "kernelspec": {
   "display_name": "Python 3",
   "language": "python",
   "name": "python3"
  },
  "language_info": {
   "codemirror_mode": {
    "name": "ipython",
    "version": 3
   },
   "file_extension": ".py",
   "mimetype": "text/x-python",
   "name": "python",
   "nbconvert_exporter": "python",
   "pygments_lexer": "ipython3",
   "version": "3.6.9"
  },
  "microsoft": {
   "host": {
    "AzureML": {
     "notebookHasBeenCompleted": true
    }
   }
  },
  "nteract": {
   "version": "nteract-front-end@1.0.0"
  }
 },
 "nbformat": 4,
 "nbformat_minor": 4
}
