{
 "cells": [
  {
   "cell_type": "code",
   "execution_count": 9,
   "id": "6bc81ee5",
   "metadata": {},
   "outputs": [],
   "source": [
    "from azureml.core import Workspace, Dataset\n",
    "\n",
    "# from catboost import CatBoostClassifier\n",
    "from sklearn.metrics import confusion_matrix\n",
    "from sklearn.model_selection import train_test_split\n",
    "\n",
    "\n",
    "import pandas as pd\n",
    "pd.set_option('max.columns', 25, 'max.rows', 150)"
   ]
  },
  {
   "cell_type": "code",
   "execution_count": 16,
   "id": "42a65489",
   "metadata": {},
   "outputs": [],
   "source": [
    "df1 = pd.read_csv('https://raw.githubusercontent.com/sannif/udacity_capstone_project/main/dataset/mushrooms.csv')"
   ]
  },
  {
   "cell_type": "code",
   "execution_count": 17,
   "id": "b419eada",
   "metadata": {},
   "outputs": [
    {
     "data": {
      "text/plain": [
       "class                        2\n",
       "cap-shape                    6\n",
       "cap-surface                  4\n",
       "cap-color                   10\n",
       "bruises                      2\n",
       "odor                         9\n",
       "gill-attachment              2\n",
       "gill-spacing                 2\n",
       "gill-size                    2\n",
       "gill-color                  12\n",
       "stalk-shape                  2\n",
       "stalk-root                   5\n",
       "stalk-surface-above-ring     4\n",
       "stalk-surface-below-ring     4\n",
       "stalk-color-above-ring       9\n",
       "stalk-color-below-ring       9\n",
       "veil-type                    1\n",
       "veil-color                   4\n",
       "ring-number                  3\n",
       "ring-type                    5\n",
       "spore-print-color            9\n",
       "population                   6\n",
       "habitat                      7\n",
       "dtype: int64"
      ]
     },
     "execution_count": 17,
     "metadata": {},
     "output_type": "execute_result"
    }
   ],
   "source": [
    "df1.apply(lambda x: x.nunique())"
   ]
  },
  {
   "cell_type": "code",
   "execution_count": 19,
   "id": "29d82efa",
   "metadata": {},
   "outputs": [
    {
     "data": {
      "text/plain": [
       "f    7914\n",
       "a     210\n",
       "Name: gill-attachment, dtype: int64"
      ]
     },
     "execution_count": 19,
     "metadata": {},
     "output_type": "execute_result"
    }
   ],
   "source": [
    "df1['gill-attachment'].value_counts()"
   ]
  },
  {
   "cell_type": "code",
   "execution_count": 6,
   "id": "4f41d68b",
   "metadata": {},
   "outputs": [],
   "source": [
    "def preprocess(df):\n",
    "    # Drop columns with a single value\n",
    "    df_clean = df.drop(['gill-attachment', 'veil-type'], axis=1)\n",
    "\n",
    "    df_clean['bruises'] = df_clean['bruises'].replace({'t': 1 , 'f': 0})\n",
    "    # df_clean['bruises'] = df_clean['bruises'].replace({True: 1 , False: 0})\n",
    "    df_clean['gill-spacing'] = df_clean['gill-spacing'].replace({'c' : 1, 'w' : 0})\n",
    "    df_clean['gill-size'] = df_clean['gill-size'].replace({'n' : 1, 'b' : 0})\n",
    "    df_clean['stalk-shape'] = df_clean['stalk-shape'].replace({'e' : 1, 't' : 0})\n",
    "\n",
    "    # df_clean['class'] = df_clean['class'].replace({\"p\": 1 , \"e\": 0})\n",
    "    \n",
    "    # one-hot encoding\n",
    "    dummy_cols = ['cap-shape', 'cap-surface', 'cap-color', 'odor', 'gill-color', 'stalk-root', 'stalk-surface-above-ring', 'stalk-surface-below-ring',\n",
    "              'stalk-color-above-ring', 'stalk-color-below-ring', 'veil-color', 'ring-number', 'ring-type', 'spore-print-color', 'population', 'habitat']\n",
    "    df_clean = pd.get_dummies(df_clean, columns=dummy_cols)\n",
    "    return df_clean"
   ]
  },
  {
   "cell_type": "code",
   "execution_count": 7,
   "id": "d3763bda",
   "metadata": {},
   "outputs": [],
   "source": [
    "df_clean = preprocess(df)"
   ]
  },
  {
   "cell_type": "code",
   "execution_count": 8,
   "id": "fcf01912",
   "metadata": {},
   "outputs": [],
   "source": [
    "from sklearn.ensemble import RandomForestClassifier"
   ]
  },
  {
   "cell_type": "code",
   "execution_count": null,
   "id": "9fed4e18",
   "metadata": {},
   "outputs": [],
   "source": []
  },
  {
   "cell_type": "code",
   "execution_count": 9,
   "id": "649ed457",
   "metadata": {},
   "outputs": [],
   "source": [
    "model = RandomForestClassifier()"
   ]
  },
  {
   "cell_type": "code",
   "execution_count": 10,
   "id": "b46bd00e",
   "metadata": {},
   "outputs": [],
   "source": [
    "y = df_clean.pop('class')\n",
    "x = df_clean"
   ]
  },
  {
   "cell_type": "code",
   "execution_count": 11,
   "id": "5ec725b1",
   "metadata": {},
   "outputs": [
    {
     "data": {
      "text/plain": [
       "RandomForestClassifier()"
      ]
     },
     "execution_count": 11,
     "metadata": {},
     "output_type": "execute_result"
    }
   ],
   "source": [
    "model.fit(x, y)"
   ]
  },
  {
   "cell_type": "code",
   "execution_count": 17,
   "id": "71c8c339",
   "metadata": {},
   "outputs": [],
   "source": [
    "model.feature_names = list(x.columns.values)"
   ]
  },
  {
   "cell_type": "code",
   "execution_count": 16,
   "id": "48cb0933",
   "metadata": {},
   "outputs": [
    {
     "data": {
      "text/plain": [
       "{'bootstrap': True,\n",
       " 'ccp_alpha': 0.0,\n",
       " 'class_weight': None,\n",
       " 'criterion': 'gini',\n",
       " 'max_depth': None,\n",
       " 'max_features': 'auto',\n",
       " 'max_leaf_nodes': None,\n",
       " 'max_samples': None,\n",
       " 'min_impurity_decrease': 0.0,\n",
       " 'min_impurity_split': None,\n",
       " 'min_samples_leaf': 1,\n",
       " 'min_samples_split': 2,\n",
       " 'min_weight_fraction_leaf': 0.0,\n",
       " 'n_estimators': 100,\n",
       " 'n_jobs': None,\n",
       " 'oob_score': False,\n",
       " 'random_state': None,\n",
       " 'verbose': 0,\n",
       " 'warm_start': False}"
      ]
     },
     "execution_count": 16,
     "metadata": {},
     "output_type": "execute_result"
    }
   ],
   "source": [
    "model.get_params"
   ]
  },
  {
   "cell_type": "code",
   "execution_count": 10,
   "id": "51310350",
   "metadata": {},
   "outputs": [],
   "source": [
    "ws = Workspace.from_config()"
   ]
  },
  {
   "cell_type": "code",
   "execution_count": 11,
   "id": "fa213638",
   "metadata": {},
   "outputs": [],
   "source": [
    "dataset = Dataset.get_by_name(ws, name='Mushrooms')\n",
    "df = dataset.to_pandas_dataframe()"
   ]
  },
  {
   "cell_type": "code",
   "execution_count": 12,
   "id": "6a26e536",
   "metadata": {},
   "outputs": [
    {
     "data": {
      "text/plain": [
       "(8124, 23)"
      ]
     },
     "execution_count": 12,
     "metadata": {},
     "output_type": "execute_result"
    }
   ],
   "source": [
    "df.shape"
   ]
  },
  {
   "cell_type": "code",
   "execution_count": 6,
   "id": "6d0b340e",
   "metadata": {},
   "outputs": [
    {
     "data": {
      "text/html": [
       "<div>\n",
       "<style scoped>\n",
       "    .dataframe tbody tr th:only-of-type {\n",
       "        vertical-align: middle;\n",
       "    }\n",
       "\n",
       "    .dataframe tbody tr th {\n",
       "        vertical-align: top;\n",
       "    }\n",
       "\n",
       "    .dataframe thead th {\n",
       "        text-align: right;\n",
       "    }\n",
       "</style>\n",
       "<table border=\"1\" class=\"dataframe\">\n",
       "  <thead>\n",
       "    <tr style=\"text-align: right;\">\n",
       "      <th></th>\n",
       "      <th>class</th>\n",
       "      <th>cap-shape</th>\n",
       "      <th>cap-surface</th>\n",
       "      <th>cap-color</th>\n",
       "      <th>bruises</th>\n",
       "      <th>odor</th>\n",
       "      <th>gill-attachment</th>\n",
       "      <th>gill-spacing</th>\n",
       "      <th>gill-size</th>\n",
       "      <th>gill-color</th>\n",
       "      <th>...</th>\n",
       "      <th>stalk-surface-below-ring</th>\n",
       "      <th>stalk-color-above-ring</th>\n",
       "      <th>stalk-color-below-ring</th>\n",
       "      <th>veil-type</th>\n",
       "      <th>veil-color</th>\n",
       "      <th>ring-number</th>\n",
       "      <th>ring-type</th>\n",
       "      <th>spore-print-color</th>\n",
       "      <th>population</th>\n",
       "      <th>habitat</th>\n",
       "    </tr>\n",
       "  </thead>\n",
       "  <tbody>\n",
       "    <tr>\n",
       "      <th>0</th>\n",
       "      <td>p</td>\n",
       "      <td>x</td>\n",
       "      <td>s</td>\n",
       "      <td>n</td>\n",
       "      <td>True</td>\n",
       "      <td>p</td>\n",
       "      <td>False</td>\n",
       "      <td>c</td>\n",
       "      <td>n</td>\n",
       "      <td>k</td>\n",
       "      <td>...</td>\n",
       "      <td>s</td>\n",
       "      <td>w</td>\n",
       "      <td>w</td>\n",
       "      <td>p</td>\n",
       "      <td>w</td>\n",
       "      <td>o</td>\n",
       "      <td>p</td>\n",
       "      <td>k</td>\n",
       "      <td>s</td>\n",
       "      <td>u</td>\n",
       "    </tr>\n",
       "    <tr>\n",
       "      <th>1</th>\n",
       "      <td>e</td>\n",
       "      <td>x</td>\n",
       "      <td>s</td>\n",
       "      <td>y</td>\n",
       "      <td>True</td>\n",
       "      <td>a</td>\n",
       "      <td>False</td>\n",
       "      <td>c</td>\n",
       "      <td>b</td>\n",
       "      <td>k</td>\n",
       "      <td>...</td>\n",
       "      <td>s</td>\n",
       "      <td>w</td>\n",
       "      <td>w</td>\n",
       "      <td>p</td>\n",
       "      <td>w</td>\n",
       "      <td>o</td>\n",
       "      <td>p</td>\n",
       "      <td>n</td>\n",
       "      <td>n</td>\n",
       "      <td>g</td>\n",
       "    </tr>\n",
       "    <tr>\n",
       "      <th>2</th>\n",
       "      <td>e</td>\n",
       "      <td>b</td>\n",
       "      <td>s</td>\n",
       "      <td>w</td>\n",
       "      <td>True</td>\n",
       "      <td>l</td>\n",
       "      <td>False</td>\n",
       "      <td>c</td>\n",
       "      <td>b</td>\n",
       "      <td>n</td>\n",
       "      <td>...</td>\n",
       "      <td>s</td>\n",
       "      <td>w</td>\n",
       "      <td>w</td>\n",
       "      <td>p</td>\n",
       "      <td>w</td>\n",
       "      <td>o</td>\n",
       "      <td>p</td>\n",
       "      <td>n</td>\n",
       "      <td>n</td>\n",
       "      <td>m</td>\n",
       "    </tr>\n",
       "    <tr>\n",
       "      <th>3</th>\n",
       "      <td>p</td>\n",
       "      <td>x</td>\n",
       "      <td>y</td>\n",
       "      <td>w</td>\n",
       "      <td>True</td>\n",
       "      <td>p</td>\n",
       "      <td>False</td>\n",
       "      <td>c</td>\n",
       "      <td>n</td>\n",
       "      <td>n</td>\n",
       "      <td>...</td>\n",
       "      <td>s</td>\n",
       "      <td>w</td>\n",
       "      <td>w</td>\n",
       "      <td>p</td>\n",
       "      <td>w</td>\n",
       "      <td>o</td>\n",
       "      <td>p</td>\n",
       "      <td>k</td>\n",
       "      <td>s</td>\n",
       "      <td>u</td>\n",
       "    </tr>\n",
       "    <tr>\n",
       "      <th>4</th>\n",
       "      <td>e</td>\n",
       "      <td>x</td>\n",
       "      <td>s</td>\n",
       "      <td>g</td>\n",
       "      <td>False</td>\n",
       "      <td>n</td>\n",
       "      <td>False</td>\n",
       "      <td>w</td>\n",
       "      <td>b</td>\n",
       "      <td>k</td>\n",
       "      <td>...</td>\n",
       "      <td>s</td>\n",
       "      <td>w</td>\n",
       "      <td>w</td>\n",
       "      <td>p</td>\n",
       "      <td>w</td>\n",
       "      <td>o</td>\n",
       "      <td>e</td>\n",
       "      <td>n</td>\n",
       "      <td>a</td>\n",
       "      <td>g</td>\n",
       "    </tr>\n",
       "  </tbody>\n",
       "</table>\n",
       "<p>5 rows × 23 columns</p>\n",
       "</div>"
      ],
      "text/plain": [
       "  class cap-shape cap-surface cap-color  bruises odor gill-attachment  \\\n",
       "0     p         x           s         n     True    p           False   \n",
       "1     e         x           s         y     True    a           False   \n",
       "2     e         b           s         w     True    l           False   \n",
       "3     p         x           y         w     True    p           False   \n",
       "4     e         x           s         g    False    n           False   \n",
       "\n",
       "  gill-spacing gill-size gill-color  ... stalk-surface-below-ring  \\\n",
       "0            c         n          k  ...                        s   \n",
       "1            c         b          k  ...                        s   \n",
       "2            c         b          n  ...                        s   \n",
       "3            c         n          n  ...                        s   \n",
       "4            w         b          k  ...                        s   \n",
       "\n",
       "  stalk-color-above-ring stalk-color-below-ring veil-type veil-color  \\\n",
       "0                      w                      w         p          w   \n",
       "1                      w                      w         p          w   \n",
       "2                      w                      w         p          w   \n",
       "3                      w                      w         p          w   \n",
       "4                      w                      w         p          w   \n",
       "\n",
       "  ring-number ring-type spore-print-color population habitat  \n",
       "0           o         p                 k          s       u  \n",
       "1           o         p                 n          n       g  \n",
       "2           o         p                 n          n       m  \n",
       "3           o         p                 k          s       u  \n",
       "4           o         e                 n          a       g  \n",
       "\n",
       "[5 rows x 23 columns]"
      ]
     },
     "execution_count": 6,
     "metadata": {},
     "output_type": "execute_result"
    }
   ],
   "source": [
    "df.head()"
   ]
  },
  {
   "cell_type": "code",
   "execution_count": 13,
   "id": "2fa07845",
   "metadata": {},
   "outputs": [
    {
     "name": "stdout",
     "output_type": "stream",
     "text": [
      "class\n",
      "e    4208\n",
      "p    3916\n",
      "Name: class, dtype: int64 \n",
      "\n",
      "cap-shape\n",
      "x    3656\n",
      "f    3152\n",
      "k     828\n",
      "b     452\n",
      "s      32\n",
      "c       4\n",
      "Name: cap-shape, dtype: int64 \n",
      "\n",
      "cap-surface\n",
      "y    3244\n",
      "s    2556\n",
      "f    2320\n",
      "g       4\n",
      "Name: cap-surface, dtype: int64 \n",
      "\n",
      "cap-color\n",
      "n    2284\n",
      "g    1840\n",
      "e    1500\n",
      "y    1072\n",
      "w    1040\n",
      "b     168\n",
      "p     144\n",
      "c      44\n",
      "u      16\n",
      "r      16\n",
      "Name: cap-color, dtype: int64 \n",
      "\n",
      "bruises\n",
      "False    4748\n",
      "True     3376\n",
      "Name: bruises, dtype: int64 \n",
      "\n",
      "odor\n",
      "n    3528\n",
      "f    2160\n",
      "y     576\n",
      "s     576\n",
      "l     400\n",
      "a     400\n",
      "p     256\n",
      "c     192\n",
      "m      36\n",
      "Name: odor, dtype: int64 \n",
      "\n",
      "gill-attachment\n",
      "False    7914\n",
      "Name: gill-attachment, dtype: int64 \n",
      "\n",
      "gill-spacing\n",
      "c    6812\n",
      "w    1312\n",
      "Name: gill-spacing, dtype: int64 \n",
      "\n",
      "gill-size\n",
      "b    5612\n",
      "n    2512\n",
      "Name: gill-size, dtype: int64 \n",
      "\n",
      "gill-color\n",
      "b    1728\n",
      "p    1492\n",
      "w    1202\n",
      "n    1048\n",
      "g     752\n",
      "h     732\n",
      "u     492\n",
      "k     408\n",
      "e      96\n",
      "y      86\n",
      "o      64\n",
      "r      24\n",
      "Name: gill-color, dtype: int64 \n",
      "\n",
      "stalk-shape\n",
      "t    4608\n",
      "e    3516\n",
      "Name: stalk-shape, dtype: int64 \n",
      "\n",
      "stalk-root\n",
      "b    3776\n",
      "?    2480\n",
      "e    1120\n",
      "c     556\n",
      "r     192\n",
      "Name: stalk-root, dtype: int64 \n",
      "\n",
      "stalk-surface-above-ring\n",
      "s    5176\n",
      "k    2372\n",
      "f     552\n",
      "y      24\n",
      "Name: stalk-surface-above-ring, dtype: int64 \n",
      "\n",
      "stalk-surface-below-ring\n",
      "s    4936\n",
      "k    2304\n",
      "f     600\n",
      "y     284\n",
      "Name: stalk-surface-below-ring, dtype: int64 \n",
      "\n",
      "stalk-color-above-ring\n",
      "w    4464\n",
      "p    1872\n",
      "g     576\n",
      "n     448\n",
      "b     432\n",
      "o     192\n",
      "e      96\n",
      "c      36\n",
      "y       8\n",
      "Name: stalk-color-above-ring, dtype: int64 \n",
      "\n",
      "stalk-color-below-ring\n",
      "w    4384\n",
      "p    1872\n",
      "g     576\n",
      "n     512\n",
      "b     432\n",
      "o     192\n",
      "e      96\n",
      "c      36\n",
      "y      24\n",
      "Name: stalk-color-below-ring, dtype: int64 \n",
      "\n",
      "veil-type\n",
      "p    8124\n",
      "Name: veil-type, dtype: int64 \n",
      "\n",
      "veil-color\n",
      "w    7924\n",
      "n      96\n",
      "o      96\n",
      "y       8\n",
      "Name: veil-color, dtype: int64 \n",
      "\n",
      "ring-number\n",
      "o    7488\n",
      "t     600\n",
      "n      36\n",
      "Name: ring-number, dtype: int64 \n",
      "\n",
      "ring-type\n",
      "p    3968\n",
      "e    2776\n",
      "l    1296\n",
      "f      48\n",
      "n      36\n",
      "Name: ring-type, dtype: int64 \n",
      "\n",
      "spore-print-color\n",
      "w    2388\n",
      "n    1968\n",
      "k    1872\n",
      "h    1632\n",
      "r      72\n",
      "y      48\n",
      "o      48\n",
      "u      48\n",
      "b      48\n",
      "Name: spore-print-color, dtype: int64 \n",
      "\n",
      "population\n",
      "v    4040\n",
      "y    1712\n",
      "s    1248\n",
      "n     400\n",
      "a     384\n",
      "c     340\n",
      "Name: population, dtype: int64 \n",
      "\n",
      "habitat\n",
      "d    3148\n",
      "g    2148\n",
      "p    1144\n",
      "l     832\n",
      "u     368\n",
      "m     292\n",
      "w     192\n",
      "Name: habitat, dtype: int64 \n",
      "\n"
     ]
    }
   ],
   "source": [
    "for i in df.columns:\n",
    "    print(i)\n",
    "    print(df[i].value_counts(), '\\n')"
   ]
  },
  {
   "cell_type": "code",
   "execution_count": 14,
   "id": "91d3e8dd",
   "metadata": {},
   "outputs": [
    {
     "data": {
      "text/plain": [
       "class                        2\n",
       "cap-shape                    6\n",
       "cap-surface                  4\n",
       "cap-color                   10\n",
       "bruises                      2\n",
       "odor                         9\n",
       "gill-attachment              1\n",
       "gill-spacing                 2\n",
       "gill-size                    2\n",
       "gill-color                  12\n",
       "stalk-shape                  2\n",
       "stalk-root                   5\n",
       "stalk-surface-above-ring     4\n",
       "stalk-surface-below-ring     4\n",
       "stalk-color-above-ring       9\n",
       "stalk-color-below-ring       9\n",
       "veil-type                    1\n",
       "veil-color                   4\n",
       "ring-number                  3\n",
       "ring-type                    5\n",
       "spore-print-color            9\n",
       "population                   6\n",
       "habitat                      7\n",
       "dtype: int64"
      ]
     },
     "execution_count": 14,
     "metadata": {},
     "output_type": "execute_result"
    }
   ],
   "source": [
    "counts = df.apply(lambda x: x.nunique())\n",
    "counts"
   ]
  },
  {
   "cell_type": "code",
   "execution_count": null,
   "id": "c1fc881b",
   "metadata": {},
   "outputs": [],
   "source": [
    ">"
   ]
  },
  {
   "cell_type": "code",
   "execution_count": 19,
   "id": "caf9b260",
   "metadata": {},
   "outputs": [
    {
     "data": {
      "text/plain": [
       "Index(['class', 'bruises', 'gill-spacing', 'gill-size', 'stalk-shape'], dtype='object')"
      ]
     },
     "execution_count": 19,
     "metadata": {},
     "output_type": "execute_result"
    }
   ],
   "source": [
    "counts[counts == 2].index"
   ]
  },
  {
   "cell_type": "code",
   "execution_count": 55,
   "id": "5824c15a",
   "metadata": {},
   "outputs": [],
   "source": [
    "# drop columns with a single unique value\n",
    "df_clean = df.drop(['gill-attachment', 'veil-type'], axis=1)\n",
    "\n",
    "df_clean['bruises'] = df_clean['bruises'].replace({True: 1 , False: 0})\n",
    "df_clean['class'] = df_clean['class'].replace({\"p\": 1 , \"e\": 0})\n",
    "# df_clean['gill-spacing'] = df_clean['gill-spacing'].replace({'c' : 1, 'w' : 0})\n",
    "# df_clean['gill-size'] = df_clean['gill-size'].replace({'n' : 1, 'b' : 0})\n",
    "# df_clean['stalk-shape'] = df_clean['stalk-shape'].replace({'e' : 1, 't' : 0})\n",
    "\n",
    "# # one-hot encoding\n",
    "# dummy_cols = ['cap-shape', 'cap-surface', 'cap-color', 'odor', 'gill-color', 'stalk-root', 'stalk-surface-above-ring', 'stalk-surface-below-ring',\n",
    "#               'stalk-color-above-ring', 'stalk-color-below-ring', 'veil-color', 'ring-number', 'ring-type', 'spore-print-color', 'population', 'habitat']\n",
    "# df_clean = pd.get_dummies(df_clean, columns=dummy_cols)"
   ]
  },
  {
   "cell_type": "code",
   "execution_count": 57,
   "id": "01d4e8c2",
   "metadata": {},
   "outputs": [],
   "source": [
    "y = df_clean.pop('class')\n",
    "X = df_clean\n",
    "\n",
    "X_train, X_test, y_train, y_test = train_test_split(X, y, test_size = 0.25, random_state=1234)"
   ]
  },
  {
   "cell_type": "code",
   "execution_count": 58,
   "id": "37aa5099",
   "metadata": {},
   "outputs": [],
   "source": [
    "model = CatBoostClassifier(loss_function='CrossEntropy', eval_metric='Accuracy', iterations=100)"
   ]
  },
  {
   "cell_type": "code",
   "execution_count": 60,
   "id": "6d6883f0",
   "metadata": {},
   "outputs": [
    {
     "name": "stdout",
     "output_type": "stream",
     "text": [
      "0:\tlearn: 0.9860496\ttotal: 6.54ms\tremaining: 647ms\n",
      "1:\tlearn: 0.9860496\ttotal: 10.8ms\tremaining: 530ms\n",
      "2:\tlearn: 0.9860496\ttotal: 15.4ms\tremaining: 497ms\n",
      "3:\tlearn: 0.9860496\ttotal: 19.8ms\tremaining: 476ms\n",
      "4:\tlearn: 0.9860496\ttotal: 23.3ms\tremaining: 443ms\n",
      "5:\tlearn: 0.9860496\ttotal: 27.8ms\tremaining: 436ms\n",
      "6:\tlearn: 0.9860496\ttotal: 31.8ms\tremaining: 423ms\n",
      "7:\tlearn: 0.9860496\ttotal: 35.3ms\tremaining: 406ms\n",
      "8:\tlearn: 0.9860496\ttotal: 39.6ms\tremaining: 400ms\n",
      "9:\tlearn: 0.9860496\ttotal: 44.5ms\tremaining: 401ms\n",
      "10:\tlearn: 0.9860496\ttotal: 49.5ms\tremaining: 401ms\n",
      "11:\tlearn: 0.9860496\ttotal: 54.4ms\tremaining: 399ms\n",
      "12:\tlearn: 0.9860496\ttotal: 59.6ms\tremaining: 399ms\n",
      "13:\tlearn: 0.9863778\ttotal: 64.3ms\tremaining: 395ms\n",
      "14:\tlearn: 0.9860496\ttotal: 67.7ms\tremaining: 384ms\n",
      "15:\tlearn: 0.9860496\ttotal: 70.9ms\tremaining: 372ms\n",
      "16:\tlearn: 0.9860496\ttotal: 74.7ms\tremaining: 365ms\n",
      "17:\tlearn: 0.9860496\ttotal: 79ms\tremaining: 360ms\n",
      "18:\tlearn: 0.9863778\ttotal: 84.7ms\tremaining: 361ms\n",
      "19:\tlearn: 0.9863778\ttotal: 89.5ms\tremaining: 358ms\n",
      "20:\tlearn: 0.9863778\ttotal: 95.4ms\tremaining: 359ms\n",
      "21:\tlearn: 0.9865419\ttotal: 100ms\tremaining: 355ms\n",
      "22:\tlearn: 0.9865419\ttotal: 105ms\tremaining: 351ms\n",
      "23:\tlearn: 0.9865419\ttotal: 110ms\tremaining: 347ms\n",
      "24:\tlearn: 0.9865419\ttotal: 115ms\tremaining: 344ms\n",
      "25:\tlearn: 0.9865419\ttotal: 119ms\tremaining: 339ms\n",
      "26:\tlearn: 0.9865419\ttotal: 124ms\tremaining: 336ms\n",
      "27:\tlearn: 0.9945839\ttotal: 129ms\tremaining: 332ms\n",
      "28:\tlearn: 0.9980305\ttotal: 135ms\tremaining: 331ms\n",
      "29:\tlearn: 0.9986870\ttotal: 141ms\tremaining: 328ms\n",
      "30:\tlearn: 0.9988511\ttotal: 147ms\tremaining: 327ms\n",
      "31:\tlearn: 0.9991794\ttotal: 156ms\tremaining: 332ms\n",
      "32:\tlearn: 0.9991794\ttotal: 162ms\tremaining: 329ms\n",
      "33:\tlearn: 0.9991794\ttotal: 168ms\tremaining: 325ms\n",
      "34:\tlearn: 0.9991794\ttotal: 174ms\tremaining: 323ms\n",
      "35:\tlearn: 0.9991794\ttotal: 180ms\tremaining: 319ms\n",
      "36:\tlearn: 0.9991794\ttotal: 185ms\tremaining: 315ms\n",
      "37:\tlearn: 0.9991794\ttotal: 190ms\tremaining: 309ms\n",
      "38:\tlearn: 0.9991794\ttotal: 195ms\tremaining: 304ms\n",
      "39:\tlearn: 0.9991794\ttotal: 200ms\tremaining: 300ms\n",
      "40:\tlearn: 0.9991794\ttotal: 205ms\tremaining: 295ms\n",
      "41:\tlearn: 0.9991794\ttotal: 211ms\tremaining: 291ms\n",
      "42:\tlearn: 0.9991794\ttotal: 216ms\tremaining: 287ms\n",
      "43:\tlearn: 0.9991794\ttotal: 221ms\tremaining: 281ms\n",
      "44:\tlearn: 0.9991794\ttotal: 226ms\tremaining: 276ms\n",
      "45:\tlearn: 0.9991794\ttotal: 231ms\tremaining: 271ms\n",
      "46:\tlearn: 0.9996718\ttotal: 236ms\tremaining: 267ms\n",
      "47:\tlearn: 0.9996718\ttotal: 243ms\tremaining: 264ms\n",
      "48:\tlearn: 0.9996718\ttotal: 248ms\tremaining: 258ms\n",
      "49:\tlearn: 0.9996718\ttotal: 255ms\tremaining: 255ms\n",
      "50:\tlearn: 0.9996718\ttotal: 260ms\tremaining: 250ms\n",
      "51:\tlearn: 0.9996718\ttotal: 265ms\tremaining: 245ms\n",
      "52:\tlearn: 0.9996718\ttotal: 270ms\tremaining: 240ms\n",
      "53:\tlearn: 0.9996718\ttotal: 274ms\tremaining: 234ms\n",
      "54:\tlearn: 0.9996718\ttotal: 279ms\tremaining: 229ms\n",
      "55:\tlearn: 0.9996718\ttotal: 284ms\tremaining: 223ms\n",
      "56:\tlearn: 0.9996718\ttotal: 289ms\tremaining: 218ms\n",
      "57:\tlearn: 0.9996718\ttotal: 294ms\tremaining: 213ms\n",
      "58:\tlearn: 0.9996718\ttotal: 299ms\tremaining: 208ms\n",
      "59:\tlearn: 0.9996718\ttotal: 305ms\tremaining: 203ms\n",
      "60:\tlearn: 0.9996718\ttotal: 310ms\tremaining: 198ms\n",
      "61:\tlearn: 0.9996718\ttotal: 316ms\tremaining: 193ms\n",
      "62:\tlearn: 0.9996718\ttotal: 321ms\tremaining: 189ms\n",
      "63:\tlearn: 0.9996718\ttotal: 326ms\tremaining: 183ms\n",
      "64:\tlearn: 0.9996718\ttotal: 331ms\tremaining: 178ms\n",
      "65:\tlearn: 0.9996718\ttotal: 336ms\tremaining: 173ms\n",
      "66:\tlearn: 0.9996718\ttotal: 342ms\tremaining: 168ms\n",
      "67:\tlearn: 0.9996718\ttotal: 347ms\tremaining: 163ms\n",
      "68:\tlearn: 0.9996718\ttotal: 352ms\tremaining: 158ms\n",
      "69:\tlearn: 0.9996718\ttotal: 357ms\tremaining: 153ms\n",
      "70:\tlearn: 0.9996718\ttotal: 362ms\tremaining: 148ms\n",
      "71:\tlearn: 0.9996718\ttotal: 367ms\tremaining: 143ms\n",
      "72:\tlearn: 0.9996718\ttotal: 372ms\tremaining: 137ms\n",
      "73:\tlearn: 0.9996718\ttotal: 376ms\tremaining: 132ms\n",
      "74:\tlearn: 0.9996718\ttotal: 381ms\tremaining: 127ms\n",
      "75:\tlearn: 0.9996718\ttotal: 386ms\tremaining: 122ms\n",
      "76:\tlearn: 0.9996718\ttotal: 392ms\tremaining: 117ms\n",
      "77:\tlearn: 0.9996718\ttotal: 396ms\tremaining: 112ms\n",
      "78:\tlearn: 0.9996718\ttotal: 401ms\tremaining: 107ms\n",
      "79:\tlearn: 0.9996718\ttotal: 407ms\tremaining: 102ms\n",
      "80:\tlearn: 0.9996718\ttotal: 413ms\tremaining: 96.8ms\n",
      "81:\tlearn: 0.9996718\ttotal: 418ms\tremaining: 91.8ms\n",
      "82:\tlearn: 0.9996718\ttotal: 423ms\tremaining: 86.7ms\n",
      "83:\tlearn: 0.9996718\ttotal: 428ms\tremaining: 81.5ms\n",
      "84:\tlearn: 0.9996718\ttotal: 433ms\tremaining: 76.4ms\n",
      "85:\tlearn: 0.9996718\ttotal: 438ms\tremaining: 71.3ms\n",
      "86:\tlearn: 0.9996718\ttotal: 443ms\tremaining: 66.2ms\n",
      "87:\tlearn: 0.9996718\ttotal: 449ms\tremaining: 61.2ms\n",
      "88:\tlearn: 0.9996718\ttotal: 455ms\tremaining: 56.2ms\n",
      "89:\tlearn: 0.9996718\ttotal: 459ms\tremaining: 51ms\n",
      "90:\tlearn: 0.9996718\ttotal: 464ms\tremaining: 45.9ms\n",
      "91:\tlearn: 0.9996718\ttotal: 469ms\tremaining: 40.8ms\n",
      "92:\tlearn: 0.9996718\ttotal: 474ms\tremaining: 35.7ms\n",
      "93:\tlearn: 0.9996718\ttotal: 480ms\tremaining: 30.6ms\n",
      "94:\tlearn: 0.9996718\ttotal: 485ms\tremaining: 25.5ms\n",
      "95:\tlearn: 0.9996718\ttotal: 490ms\tremaining: 20.4ms\n",
      "96:\tlearn: 0.9996718\ttotal: 495ms\tremaining: 15.3ms\n",
      "97:\tlearn: 0.9996718\ttotal: 501ms\tremaining: 10.2ms\n",
      "98:\tlearn: 0.9996718\ttotal: 503ms\tremaining: 5.08ms\n",
      "99:\tlearn: 0.9996718\ttotal: 509ms\tremaining: 0us\n"
     ]
    },
    {
     "data": {
      "text/plain": [
       "<catboost.core.CatBoostClassifier at 0x7f3f180d9b20>"
      ]
     },
     "execution_count": 60,
     "metadata": {},
     "output_type": "execute_result"
    }
   ],
   "source": [
    "model.fit(X=X_train, y=y_train, cat_features=list(range(X.shape[1])))"
   ]
  },
  {
   "cell_type": "code",
   "execution_count": 61,
   "id": "86542fd9",
   "metadata": {},
   "outputs": [],
   "source": [
    "y_pred = model.predict(X_test)"
   ]
  },
  {
   "cell_type": "code",
   "execution_count": 62,
   "id": "b97b602f",
   "metadata": {},
   "outputs": [
    {
     "data": {
      "text/plain": [
       "array([[1017,    0],\n",
       "       [   2, 1012]])"
      ]
     },
     "execution_count": 62,
     "metadata": {},
     "output_type": "execute_result"
    }
   ],
   "source": [
    "confusion_matrix(y_test, y_pred)"
   ]
  },
  {
   "cell_type": "code",
   "execution_count": 64,
   "id": "97afca10",
   "metadata": {},
   "outputs": [
    {
     "data": {
      "text/plain": [
       "0.999015263417036"
      ]
     },
     "execution_count": 64,
     "metadata": {},
     "output_type": "execute_result"
    }
   ],
   "source": [
    "model.score(X_test, y_test)"
   ]
  },
  {
   "cell_type": "code",
   "execution_count": null,
   "id": "a4ad5a19",
   "metadata": {},
   "outputs": [],
   "source": []
  }
 ],
 "metadata": {
  "kernelspec": {
   "display_name": "Python 3",
   "language": "python",
   "name": "python3"
  },
  "language_info": {
   "codemirror_mode": {
    "name": "ipython",
    "version": 3
   },
   "file_extension": ".py",
   "mimetype": "text/x-python",
   "name": "python",
   "nbconvert_exporter": "python",
   "pygments_lexer": "ipython3",
   "version": "3.6.9"
  }
 },
 "nbformat": 4,
 "nbformat_minor": 5
}
